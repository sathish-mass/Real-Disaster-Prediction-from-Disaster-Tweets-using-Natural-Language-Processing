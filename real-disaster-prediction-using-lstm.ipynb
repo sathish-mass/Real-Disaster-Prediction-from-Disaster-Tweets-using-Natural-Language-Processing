{
 "cells": [
  {
   "cell_type": "markdown",
   "id": "db70270f",
   "metadata": {
    "papermill": {
     "duration": 0.019019,
     "end_time": "2023-11-21T07:34:32.856426",
     "exception": false,
     "start_time": "2023-11-21T07:34:32.837407",
     "status": "completed"
    },
    "tags": []
   },
   "source": [
    "# **Real Disaster Prediction from Disaster Tweets using Natural Language Processing**\n"
   ]
  },
  {
   "cell_type": "markdown",
   "id": "42070ee5",
   "metadata": {
    "papermill": {
     "duration": 0.018096,
     "end_time": "2023-11-21T07:34:32.893097",
     "exception": false,
     "start_time": "2023-11-21T07:34:32.875001",
     "status": "completed"
    },
    "tags": []
   },
   "source": [
    "\n",
    "### Objective\n",
    "\n",
    "1. Perform data preprocessing\n",
    "2.  Predicting whether a given tweet is about a real disaster or not?\n",
    "3.  Build and test the model for test data\n",
    "4.  Evaluate the quality of the trained models\n",
    "\n",
    "----"
   ]
  },
  {
   "cell_type": "markdown",
   "id": "7ef03f06",
   "metadata": {
    "papermill": {
     "duration": 0.019002,
     "end_time": "2023-11-21T07:34:32.930381",
     "exception": false,
     "start_time": "2023-11-21T07:34:32.911379",
     "status": "completed"
    },
    "tags": []
   },
   "source": [
    "### About Dataset\n",
    "\n",
    "1.   List item\n",
    "2.   List item\n",
    "\n",
    "\n",
    "\n",
    "This dataset taken from kaggle competition called [Natural Language Processing with Disaster Tweets](https://www.kaggle.com/competitions/nlp-getting-started/overview)\n",
    "\n",
    "This dataset was created by the company figure-eight and originally shared on their ‘[Data For Everyone](https://appen.com/data-for-everyone/)*’* website here.\n",
    "\n"
   ]
  },
  {
   "cell_type": "markdown",
   "id": "b9ef8ff9",
   "metadata": {
    "papermill": {
     "duration": 0.018102,
     "end_time": "2023-11-21T07:34:32.966846",
     "exception": false,
     "start_time": "2023-11-21T07:34:32.948744",
     "status": "completed"
    },
    "tags": []
   },
   "source": [
    "#### Importing Datasets"
   ]
  },
  {
   "cell_type": "code",
   "execution_count": 1,
   "id": "fe9d533f",
   "metadata": {
    "_cell_guid": "b1076dfc-b9ad-4769-8c92-a6c4dae69d19",
    "_uuid": "8f2839f25d086af736a60e9eeb907d3b93b6e0e5",
    "execution": {
     "iopub.execute_input": "2023-11-21T07:34:33.005880Z",
     "iopub.status.busy": "2023-11-21T07:34:33.005447Z",
     "iopub.status.idle": "2023-11-21T07:34:33.698401Z",
     "shell.execute_reply": "2023-11-21T07:34:33.697290Z"
    },
    "papermill": {
     "duration": 0.714904,
     "end_time": "2023-11-21T07:34:33.700480",
     "exception": false,
     "start_time": "2023-11-21T07:34:32.985576",
     "status": "completed"
    },
    "tags": []
   },
   "outputs": [
    {
     "name": "stdout",
     "output_type": "stream",
     "text": [
      "/kaggle/input/nlp-getting-started/sample_submission.csv\n",
      "/kaggle/input/nlp-getting-started/train.csv\n",
      "/kaggle/input/nlp-getting-started/test.csv\n"
     ]
    }
   ],
   "source": [
    "# This Python 3 environment comes with many helpful analytics libraries installed\n",
    "# It is defined by the kaggle/python Docker image: https://github.com/kaggle/docker-python\n",
    "# For example, here's several helpful packages to load\n",
    "\n",
    "import numpy as np # linear algebra\n",
    "import pandas as pd # data processing, CSV file I/O (e.g. pd.read_csv)\n",
    "\n",
    "# Input data files are available in the read-only \"../input/\" directory\n",
    "# For example, running this (by clicking run or pressing Shift+Enter) will list all files under the input directory\n",
    "\n",
    "import os\n",
    "for dirname, _, filenames in os.walk('/kaggle/input'):\n",
    "    for filename in filenames:\n",
    "        print(os.path.join(dirname, filename))\n",
    "\n",
    "# You can write up to 20GB to the current directory (/kaggle/working/) that gets preserved as output when you create a version using \"Save & Run All\" \n",
    "# You can also write temporary files to /kaggle/temp/, but they won't be saved outside of the current session"
   ]
  },
  {
   "cell_type": "markdown",
   "id": "d22355d8",
   "metadata": {
    "papermill": {
     "duration": 0.018287,
     "end_time": "2023-11-21T07:34:33.737744",
     "exception": false,
     "start_time": "2023-11-21T07:34:33.719457",
     "status": "completed"
    },
    "tags": []
   },
   "source": [
    "#### Import and install Libraries"
   ]
  },
  {
   "cell_type": "code",
   "execution_count": 2,
   "id": "15b622f6",
   "metadata": {
    "execution": {
     "iopub.execute_input": "2023-11-21T07:34:33.775934Z",
     "iopub.status.busy": "2023-11-21T07:34:33.775511Z",
     "iopub.status.idle": "2023-11-21T07:35:23.072430Z",
     "shell.execute_reply": "2023-11-21T07:35:23.070951Z"
    },
    "papermill": {
     "duration": 49.318808,
     "end_time": "2023-11-21T07:35:23.074983",
     "exception": false,
     "start_time": "2023-11-21T07:34:33.756175",
     "status": "completed"
    },
    "tags": []
   },
   "outputs": [
    {
     "name": "stdout",
     "output_type": "stream",
     "text": [
      "Requirement already satisfied: gensim in /opt/conda/lib/python3.10/site-packages (4.3.2)\r\n",
      "Requirement already satisfied: numpy>=1.18.5 in /opt/conda/lib/python3.10/site-packages (from gensim) (1.24.3)\r\n",
      "Requirement already satisfied: scipy>=1.7.0 in /opt/conda/lib/python3.10/site-packages (from gensim) (1.11.3)\r\n",
      "Requirement already satisfied: smart-open>=1.8.1 in /opt/conda/lib/python3.10/site-packages (from gensim) (6.3.0)\r\n",
      "Requirement already satisfied: tensorflow in /opt/conda/lib/python3.10/site-packages (2.13.0)\r\n",
      "Requirement already satisfied: absl-py>=1.0.0 in /opt/conda/lib/python3.10/site-packages (from tensorflow) (1.4.0)\r\n",
      "Requirement already satisfied: astunparse>=1.6.0 in /opt/conda/lib/python3.10/site-packages (from tensorflow) (1.6.3)\r\n",
      "Requirement already satisfied: flatbuffers>=23.1.21 in /opt/conda/lib/python3.10/site-packages (from tensorflow) (23.5.26)\r\n",
      "Requirement already satisfied: gast<=0.4.0,>=0.2.1 in /opt/conda/lib/python3.10/site-packages (from tensorflow) (0.4.0)\r\n",
      "Requirement already satisfied: google-pasta>=0.1.1 in /opt/conda/lib/python3.10/site-packages (from tensorflow) (0.2.0)\r\n",
      "Requirement already satisfied: grpcio<2.0,>=1.24.3 in /opt/conda/lib/python3.10/site-packages (from tensorflow) (1.51.1)\r\n",
      "Requirement already satisfied: h5py>=2.9.0 in /opt/conda/lib/python3.10/site-packages (from tensorflow) (3.9.0)\r\n",
      "Requirement already satisfied: keras<2.14,>=2.13.1 in /opt/conda/lib/python3.10/site-packages (from tensorflow) (2.13.1)\r\n",
      "Requirement already satisfied: libclang>=13.0.0 in /opt/conda/lib/python3.10/site-packages (from tensorflow) (16.0.6)\r\n",
      "Requirement already satisfied: numpy<=1.24.3,>=1.22 in /opt/conda/lib/python3.10/site-packages (from tensorflow) (1.24.3)\r\n",
      "Requirement already satisfied: opt-einsum>=2.3.2 in /opt/conda/lib/python3.10/site-packages (from tensorflow) (3.3.0)\r\n",
      "Requirement already satisfied: packaging in /opt/conda/lib/python3.10/site-packages (from tensorflow) (21.3)\r\n",
      "Requirement already satisfied: protobuf!=4.21.0,!=4.21.1,!=4.21.2,!=4.21.3,!=4.21.4,!=4.21.5,<5.0.0dev,>=3.20.3 in /opt/conda/lib/python3.10/site-packages (from tensorflow) (3.20.3)\r\n",
      "Requirement already satisfied: setuptools in /opt/conda/lib/python3.10/site-packages (from tensorflow) (68.1.2)\r\n",
      "Requirement already satisfied: six>=1.12.0 in /opt/conda/lib/python3.10/site-packages (from tensorflow) (1.16.0)\r\n",
      "Requirement already satisfied: tensorboard<2.14,>=2.13 in /opt/conda/lib/python3.10/site-packages (from tensorflow) (2.13.0)\r\n",
      "Requirement already satisfied: tensorflow-estimator<2.14,>=2.13.0 in /opt/conda/lib/python3.10/site-packages (from tensorflow) (2.13.0)\r\n",
      "Requirement already satisfied: termcolor>=1.1.0 in /opt/conda/lib/python3.10/site-packages (from tensorflow) (2.3.0)\r\n",
      "Requirement already satisfied: typing-extensions<4.6.0,>=3.6.6 in /opt/conda/lib/python3.10/site-packages (from tensorflow) (4.5.0)\r\n",
      "Requirement already satisfied: wrapt>=1.11.0 in /opt/conda/lib/python3.10/site-packages (from tensorflow) (1.15.0)\r\n",
      "Requirement already satisfied: tensorflow-io-gcs-filesystem>=0.23.1 in /opt/conda/lib/python3.10/site-packages (from tensorflow) (0.34.0)\r\n",
      "Requirement already satisfied: wheel<1.0,>=0.23.0 in /opt/conda/lib/python3.10/site-packages (from astunparse>=1.6.0->tensorflow) (0.41.2)\r\n",
      "Requirement already satisfied: google-auth<3,>=1.6.3 in /opt/conda/lib/python3.10/site-packages (from tensorboard<2.14,>=2.13->tensorflow) (2.22.0)\r\n",
      "Requirement already satisfied: google-auth-oauthlib<1.1,>=0.5 in /opt/conda/lib/python3.10/site-packages (from tensorboard<2.14,>=2.13->tensorflow) (1.0.0)\r\n",
      "Requirement already satisfied: markdown>=2.6.8 in /opt/conda/lib/python3.10/site-packages (from tensorboard<2.14,>=2.13->tensorflow) (3.4.4)\r\n",
      "Requirement already satisfied: requests<3,>=2.21.0 in /opt/conda/lib/python3.10/site-packages (from tensorboard<2.14,>=2.13->tensorflow) (2.31.0)\r\n",
      "Requirement already satisfied: tensorboard-data-server<0.8.0,>=0.7.0 in /opt/conda/lib/python3.10/site-packages (from tensorboard<2.14,>=2.13->tensorflow) (0.7.1)\r\n",
      "Requirement already satisfied: werkzeug>=1.0.1 in /opt/conda/lib/python3.10/site-packages (from tensorboard<2.14,>=2.13->tensorflow) (3.0.1)\r\n",
      "Requirement already satisfied: pyparsing!=3.0.5,>=2.0.2 in /opt/conda/lib/python3.10/site-packages (from packaging->tensorflow) (3.0.9)\r\n",
      "Requirement already satisfied: cachetools<6.0,>=2.0.0 in /opt/conda/lib/python3.10/site-packages (from google-auth<3,>=1.6.3->tensorboard<2.14,>=2.13->tensorflow) (4.2.4)\r\n",
      "Requirement already satisfied: pyasn1-modules>=0.2.1 in /opt/conda/lib/python3.10/site-packages (from google-auth<3,>=1.6.3->tensorboard<2.14,>=2.13->tensorflow) (0.2.7)\r\n",
      "Requirement already satisfied: rsa<5,>=3.1.4 in /opt/conda/lib/python3.10/site-packages (from google-auth<3,>=1.6.3->tensorboard<2.14,>=2.13->tensorflow) (4.9)\r\n",
      "Requirement already satisfied: urllib3<2.0 in /opt/conda/lib/python3.10/site-packages (from google-auth<3,>=1.6.3->tensorboard<2.14,>=2.13->tensorflow) (1.26.15)\r\n",
      "Requirement already satisfied: requests-oauthlib>=0.7.0 in /opt/conda/lib/python3.10/site-packages (from google-auth-oauthlib<1.1,>=0.5->tensorboard<2.14,>=2.13->tensorflow) (1.3.1)\r\n",
      "Requirement already satisfied: charset-normalizer<4,>=2 in /opt/conda/lib/python3.10/site-packages (from requests<3,>=2.21.0->tensorboard<2.14,>=2.13->tensorflow) (3.2.0)\r\n",
      "Requirement already satisfied: idna<4,>=2.5 in /opt/conda/lib/python3.10/site-packages (from requests<3,>=2.21.0->tensorboard<2.14,>=2.13->tensorflow) (3.4)\r\n",
      "Requirement already satisfied: certifi>=2017.4.17 in /opt/conda/lib/python3.10/site-packages (from requests<3,>=2.21.0->tensorboard<2.14,>=2.13->tensorflow) (2023.7.22)\r\n",
      "Requirement already satisfied: MarkupSafe>=2.1.1 in /opt/conda/lib/python3.10/site-packages (from werkzeug>=1.0.1->tensorboard<2.14,>=2.13->tensorflow) (2.1.3)\r\n",
      "Requirement already satisfied: pyasn1<0.5.0,>=0.4.6 in /opt/conda/lib/python3.10/site-packages (from pyasn1-modules>=0.2.1->google-auth<3,>=1.6.3->tensorboard<2.14,>=2.13->tensorflow) (0.4.8)\r\n",
      "Requirement already satisfied: oauthlib>=3.0.0 in /opt/conda/lib/python3.10/site-packages (from requests-oauthlib>=0.7.0->google-auth-oauthlib<1.1,>=0.5->tensorboard<2.14,>=2.13->tensorflow) (3.2.2)\r\n",
      "Requirement already satisfied: nltk in /opt/conda/lib/python3.10/site-packages (3.2.4)\r\n",
      "Collecting nltk\r\n",
      "  Downloading nltk-3.8.1-py3-none-any.whl (1.5 MB)\r\n",
      "\u001b[2K     \u001b[90m━━━━━━━━━━━━━━━━━━━━━━━━━━━━━━━━━━━━━━━━\u001b[0m \u001b[32m1.5/1.5 MB\u001b[0m \u001b[31m41.8 MB/s\u001b[0m eta \u001b[36m0:00:00\u001b[0m\r\n",
      "\u001b[?25hRequirement already satisfied: click in /opt/conda/lib/python3.10/site-packages (from nltk) (8.1.7)\r\n",
      "Requirement already satisfied: joblib in /opt/conda/lib/python3.10/site-packages (from nltk) (1.3.2)\r\n",
      "Requirement already satisfied: regex>=2021.8.3 in /opt/conda/lib/python3.10/site-packages (from nltk) (2023.8.8)\r\n",
      "Requirement already satisfied: tqdm in /opt/conda/lib/python3.10/site-packages (from nltk) (4.66.1)\r\n",
      "Installing collected packages: nltk\r\n",
      "  Attempting uninstall: nltk\r\n",
      "    Found existing installation: nltk 3.2.4\r\n",
      "    Uninstalling nltk-3.2.4:\r\n",
      "      Successfully uninstalled nltk-3.2.4\r\n",
      "\u001b[31mERROR: pip's dependency resolver does not currently take into account all the packages that are installed. This behaviour is the source of the following dependency conflicts.\r\n",
      "preprocessing 0.1.13 requires nltk==3.2.4, but you have nltk 3.8.1 which is incompatible.\u001b[0m\u001b[31m\r\n",
      "\u001b[0mSuccessfully installed nltk-3.8.1\r\n"
     ]
    }
   ],
   "source": [
    "!pip install gensim\n",
    "!pip install tensorflow\n",
    "!pip install --upgrade nltk\n",
    "!pip install -q -U keras-tuner"
   ]
  },
  {
   "cell_type": "code",
   "execution_count": 3,
   "id": "282e16e2",
   "metadata": {
    "execution": {
     "iopub.execute_input": "2023-11-21T07:35:23.160643Z",
     "iopub.status.busy": "2023-11-21T07:35:23.159885Z",
     "iopub.status.idle": "2023-11-21T07:35:42.761735Z",
     "shell.execute_reply": "2023-11-21T07:35:42.760621Z"
    },
    "papermill": {
     "duration": 19.626085,
     "end_time": "2023-11-21T07:35:42.764353",
     "exception": false,
     "start_time": "2023-11-21T07:35:23.138268",
     "status": "completed"
    },
    "tags": []
   },
   "outputs": [
    {
     "name": "stderr",
     "output_type": "stream",
     "text": [
      "/opt/conda/lib/python3.10/site-packages/scipy/__init__.py:146: UserWarning: A NumPy version >=1.16.5 and <1.23.0 is required for this version of SciPy (detected version 1.24.3\n",
      "  warnings.warn(f\"A NumPy version >={np_minversion} and <{np_maxversion}\"\n"
     ]
    }
   ],
   "source": [
    "import gensim\n",
    "from gensim.models import Word2Vec, KeyedVectors\n",
    "from gensim.utils import simple_preprocess\n",
    "\n",
    "import re\n",
    "import nltk\n",
    "from nltk.corpus import stopwords\n",
    "from nltk.stem import WordNetLemmatizer\n",
    "from nltk import sent_tokenize\n",
    "from nltk import FreqDist\n",
    "from nltk.tokenize import word_tokenize\n",
    "\n",
    "import tensorflow as tf\n",
    "\n",
    "from tensorflow.keras.layers import Embedding\n",
    "from tensorflow.keras.preprocessing.sequence import pad_sequences\n",
    "from tensorflow.keras.preprocessing.text import one_hot\n",
    "from tensorflow.keras.layers import LSTM, Dense, Dropout, BatchNormalization\n",
    "from tensorflow.keras.layers import Bidirectional\n",
    "from tensorflow.keras.models import Sequential\n",
    "from tensorflow import keras\n",
    "import keras_tuner as kt\n",
    "\n",
    "from sklearn.model_selection import train_test_split\n",
    "from sklearn.metrics import confusion_matrix, ConfusionMatrixDisplay, accuracy_score, classification_report\n",
    "\n",
    "\n",
    "import pandas as pd\n",
    "import numpy as np\n",
    "import matplotlib.pyplot as plt\n",
    "import seaborn as sns\n",
    "\n",
    "from tqdm import tqdm\n",
    "%matplotlib inline"
   ]
  },
  {
   "cell_type": "code",
   "execution_count": 4,
   "id": "c43651f8",
   "metadata": {
    "execution": {
     "iopub.execute_input": "2023-11-21T07:35:42.828697Z",
     "iopub.status.busy": "2023-11-21T07:35:42.827027Z",
     "iopub.status.idle": "2023-11-21T07:35:42.987186Z",
     "shell.execute_reply": "2023-11-21T07:35:42.986107Z"
    },
    "papermill": {
     "duration": 0.19967,
     "end_time": "2023-11-21T07:35:42.989955",
     "exception": false,
     "start_time": "2023-11-21T07:35:42.790285",
     "status": "completed"
    },
    "tags": []
   },
   "outputs": [
    {
     "name": "stderr",
     "output_type": "stream",
     "text": [
      "[nltk_data] Downloading package stopwords to /usr/share/nltk_data...\n",
      "[nltk_data]   Package stopwords is already up-to-date!\n",
      "[nltk_data] Downloading package punkt to /usr/share/nltk_data...\n",
      "[nltk_data]   Package punkt is already up-to-date!\n"
     ]
    },
    {
     "data": {
      "text/plain": [
       "True"
      ]
     },
     "execution_count": 4,
     "metadata": {},
     "output_type": "execute_result"
    }
   ],
   "source": [
    "nltk.download('stopwords')\n",
    "nltk.download('punkt')"
   ]
  },
  {
   "cell_type": "code",
   "execution_count": 5,
   "id": "2936a856",
   "metadata": {
    "execution": {
     "iopub.execute_input": "2023-11-21T07:35:43.049792Z",
     "iopub.status.busy": "2023-11-21T07:35:43.049437Z",
     "iopub.status.idle": "2023-11-21T07:35:43.125718Z",
     "shell.execute_reply": "2023-11-21T07:35:43.124514Z"
    },
    "papermill": {
     "duration": 0.109429,
     "end_time": "2023-11-21T07:35:43.128873",
     "exception": false,
     "start_time": "2023-11-21T07:35:43.019444",
     "status": "completed"
    },
    "tags": []
   },
   "outputs": [
    {
     "name": "stderr",
     "output_type": "stream",
     "text": [
      "[nltk_data] Downloading package wordnet to /usr/share/nltk_data...\n",
      "[nltk_data]   Package wordnet is already up-to-date!\n"
     ]
    },
    {
     "data": {
      "text/plain": [
       "True"
      ]
     },
     "execution_count": 5,
     "metadata": {},
     "output_type": "execute_result"
    }
   ],
   "source": [
    "nltk.download('wordnet')"
   ]
  },
  {
   "cell_type": "code",
   "execution_count": 6,
   "id": "9e403da9",
   "metadata": {
    "execution": {
     "iopub.execute_input": "2023-11-21T07:35:43.176415Z",
     "iopub.status.busy": "2023-11-21T07:35:43.176087Z",
     "iopub.status.idle": "2023-11-21T07:35:43.180777Z",
     "shell.execute_reply": "2023-11-21T07:35:43.179764Z"
    },
    "papermill": {
     "duration": 0.028813,
     "end_time": "2023-11-21T07:35:43.182784",
     "exception": false,
     "start_time": "2023-11-21T07:35:43.153971",
     "status": "completed"
    },
    "tags": []
   },
   "outputs": [],
   "source": [
    "nltk.data.path.append('/usr/share/nltk_data/corpora/wordnet.zip')\n",
    "nltk.data.path.append(\"/kaggle/input/corpora/wordnet.zip\")"
   ]
  },
  {
   "cell_type": "markdown",
   "id": "ea6bc39f",
   "metadata": {
    "papermill": {
     "duration": 0.021018,
     "end_time": "2023-11-21T07:35:43.224797",
     "exception": false,
     "start_time": "2023-11-21T07:35:43.203779",
     "status": "completed"
    },
    "tags": []
   },
   "source": [
    "#### Load the Disaster Tweets dataset\n",
    "\n",
    "Let's have a look at the train and test dataset.\n",
    "\n",
    "They contain:\n",
    "\n",
    "- id\n",
    "- keyword: A keyword from that tweet (although this may be blank!)\n",
    "- location: The location the tweet was sent from (may also be blank)\n",
    "- text: The text of a tweet\n",
    "- target: 1 if the tweet is a real disaster or 0 if not"
   ]
  },
  {
   "cell_type": "code",
   "execution_count": 7,
   "id": "95852e0a",
   "metadata": {
    "execution": {
     "iopub.execute_input": "2023-11-21T07:35:43.268043Z",
     "iopub.status.busy": "2023-11-21T07:35:43.267691Z",
     "iopub.status.idle": "2023-11-21T07:35:43.331316Z",
     "shell.execute_reply": "2023-11-21T07:35:43.330297Z"
    },
    "papermill": {
     "duration": 0.088131,
     "end_time": "2023-11-21T07:35:43.333893",
     "exception": false,
     "start_time": "2023-11-21T07:35:43.245762",
     "status": "completed"
    },
    "tags": []
   },
   "outputs": [
    {
     "data": {
      "text/html": [
       "<div>\n",
       "<style scoped>\n",
       "    .dataframe tbody tr th:only-of-type {\n",
       "        vertical-align: middle;\n",
       "    }\n",
       "\n",
       "    .dataframe tbody tr th {\n",
       "        vertical-align: top;\n",
       "    }\n",
       "\n",
       "    .dataframe thead th {\n",
       "        text-align: right;\n",
       "    }\n",
       "</style>\n",
       "<table border=\"1\" class=\"dataframe\">\n",
       "  <thead>\n",
       "    <tr style=\"text-align: right;\">\n",
       "      <th></th>\n",
       "      <th>id</th>\n",
       "      <th>keyword</th>\n",
       "      <th>location</th>\n",
       "      <th>text</th>\n",
       "      <th>target</th>\n",
       "    </tr>\n",
       "  </thead>\n",
       "  <tbody>\n",
       "    <tr>\n",
       "      <th>0</th>\n",
       "      <td>1</td>\n",
       "      <td>NaN</td>\n",
       "      <td>NaN</td>\n",
       "      <td>Our Deeds are the Reason of this #earthquake M...</td>\n",
       "      <td>1</td>\n",
       "    </tr>\n",
       "    <tr>\n",
       "      <th>1</th>\n",
       "      <td>4</td>\n",
       "      <td>NaN</td>\n",
       "      <td>NaN</td>\n",
       "      <td>Forest fire near La Ronge Sask. Canada</td>\n",
       "      <td>1</td>\n",
       "    </tr>\n",
       "    <tr>\n",
       "      <th>2</th>\n",
       "      <td>5</td>\n",
       "      <td>NaN</td>\n",
       "      <td>NaN</td>\n",
       "      <td>All residents asked to 'shelter in place' are ...</td>\n",
       "      <td>1</td>\n",
       "    </tr>\n",
       "    <tr>\n",
       "      <th>3</th>\n",
       "      <td>6</td>\n",
       "      <td>NaN</td>\n",
       "      <td>NaN</td>\n",
       "      <td>13,000 people receive #wildfires evacuation or...</td>\n",
       "      <td>1</td>\n",
       "    </tr>\n",
       "    <tr>\n",
       "      <th>4</th>\n",
       "      <td>7</td>\n",
       "      <td>NaN</td>\n",
       "      <td>NaN</td>\n",
       "      <td>Just got sent this photo from Ruby #Alaska as ...</td>\n",
       "      <td>1</td>\n",
       "    </tr>\n",
       "  </tbody>\n",
       "</table>\n",
       "</div>"
      ],
      "text/plain": [
       "   id keyword location                                               text  \\\n",
       "0   1     NaN      NaN  Our Deeds are the Reason of this #earthquake M...   \n",
       "1   4     NaN      NaN             Forest fire near La Ronge Sask. Canada   \n",
       "2   5     NaN      NaN  All residents asked to 'shelter in place' are ...   \n",
       "3   6     NaN      NaN  13,000 people receive #wildfires evacuation or...   \n",
       "4   7     NaN      NaN  Just got sent this photo from Ruby #Alaska as ...   \n",
       "\n",
       "   target  \n",
       "0       1  \n",
       "1       1  \n",
       "2       1  \n",
       "3       1  \n",
       "4       1  "
      ]
     },
     "execution_count": 7,
     "metadata": {},
     "output_type": "execute_result"
    }
   ],
   "source": [
    "df_train=pd.read_csv('/kaggle/input/nlp-getting-started/train.csv')\n",
    "df_train.head()"
   ]
  },
  {
   "cell_type": "code",
   "execution_count": 8,
   "id": "bdbc92d8",
   "metadata": {
    "execution": {
     "iopub.execute_input": "2023-11-21T07:35:43.380969Z",
     "iopub.status.busy": "2023-11-21T07:35:43.380556Z",
     "iopub.status.idle": "2023-11-21T07:35:43.395354Z",
     "shell.execute_reply": "2023-11-21T07:35:43.394424Z"
    },
    "papermill": {
     "duration": 0.040643,
     "end_time": "2023-11-21T07:35:43.397708",
     "exception": false,
     "start_time": "2023-11-21T07:35:43.357065",
     "status": "completed"
    },
    "tags": []
   },
   "outputs": [
    {
     "data": {
      "text/plain": [
       "target\n",
       "0    4342\n",
       "1    3271\n",
       "Name: count, dtype: int64"
      ]
     },
     "execution_count": 8,
     "metadata": {},
     "output_type": "execute_result"
    }
   ],
   "source": [
    "df_train.target.value_counts()"
   ]
  },
  {
   "cell_type": "code",
   "execution_count": 9,
   "id": "69b436e6",
   "metadata": {
    "execution": {
     "iopub.execute_input": "2023-11-21T07:35:43.445845Z",
     "iopub.status.busy": "2023-11-21T07:35:43.445545Z",
     "iopub.status.idle": "2023-11-21T07:35:43.478554Z",
     "shell.execute_reply": "2023-11-21T07:35:43.477586Z"
    },
    "papermill": {
     "duration": 0.057006,
     "end_time": "2023-11-21T07:35:43.480619",
     "exception": false,
     "start_time": "2023-11-21T07:35:43.423613",
     "status": "completed"
    },
    "tags": []
   },
   "outputs": [
    {
     "data": {
      "text/html": [
       "<div>\n",
       "<style scoped>\n",
       "    .dataframe tbody tr th:only-of-type {\n",
       "        vertical-align: middle;\n",
       "    }\n",
       "\n",
       "    .dataframe tbody tr th {\n",
       "        vertical-align: top;\n",
       "    }\n",
       "\n",
       "    .dataframe thead th {\n",
       "        text-align: right;\n",
       "    }\n",
       "</style>\n",
       "<table border=\"1\" class=\"dataframe\">\n",
       "  <thead>\n",
       "    <tr style=\"text-align: right;\">\n",
       "      <th></th>\n",
       "      <th>id</th>\n",
       "      <th>keyword</th>\n",
       "      <th>location</th>\n",
       "      <th>text</th>\n",
       "    </tr>\n",
       "  </thead>\n",
       "  <tbody>\n",
       "    <tr>\n",
       "      <th>0</th>\n",
       "      <td>0</td>\n",
       "      <td>NaN</td>\n",
       "      <td>NaN</td>\n",
       "      <td>Just happened a terrible car crash</td>\n",
       "    </tr>\n",
       "    <tr>\n",
       "      <th>1</th>\n",
       "      <td>2</td>\n",
       "      <td>NaN</td>\n",
       "      <td>NaN</td>\n",
       "      <td>Heard about #earthquake is different cities, s...</td>\n",
       "    </tr>\n",
       "    <tr>\n",
       "      <th>2</th>\n",
       "      <td>3</td>\n",
       "      <td>NaN</td>\n",
       "      <td>NaN</td>\n",
       "      <td>there is a forest fire at spot pond, geese are...</td>\n",
       "    </tr>\n",
       "    <tr>\n",
       "      <th>3</th>\n",
       "      <td>9</td>\n",
       "      <td>NaN</td>\n",
       "      <td>NaN</td>\n",
       "      <td>Apocalypse lighting. #Spokane #wildfires</td>\n",
       "    </tr>\n",
       "    <tr>\n",
       "      <th>4</th>\n",
       "      <td>11</td>\n",
       "      <td>NaN</td>\n",
       "      <td>NaN</td>\n",
       "      <td>Typhoon Soudelor kills 28 in China and Taiwan</td>\n",
       "    </tr>\n",
       "  </tbody>\n",
       "</table>\n",
       "</div>"
      ],
      "text/plain": [
       "   id keyword location                                               text\n",
       "0   0     NaN      NaN                 Just happened a terrible car crash\n",
       "1   2     NaN      NaN  Heard about #earthquake is different cities, s...\n",
       "2   3     NaN      NaN  there is a forest fire at spot pond, geese are...\n",
       "3   9     NaN      NaN           Apocalypse lighting. #Spokane #wildfires\n",
       "4  11     NaN      NaN      Typhoon Soudelor kills 28 in China and Taiwan"
      ]
     },
     "execution_count": 9,
     "metadata": {},
     "output_type": "execute_result"
    }
   ],
   "source": [
    "df_test=pd.read_csv('/kaggle/input/nlp-getting-started/test.csv')\n",
    "df_test.head()"
   ]
  },
  {
   "cell_type": "code",
   "execution_count": 10,
   "id": "06403153",
   "metadata": {
    "execution": {
     "iopub.execute_input": "2023-11-21T07:35:43.525398Z",
     "iopub.status.busy": "2023-11-21T07:35:43.524570Z",
     "iopub.status.idle": "2023-11-21T07:35:43.537380Z",
     "shell.execute_reply": "2023-11-21T07:35:43.536335Z"
    },
    "papermill": {
     "duration": 0.037045,
     "end_time": "2023-11-21T07:35:43.539239",
     "exception": false,
     "start_time": "2023-11-21T07:35:43.502194",
     "status": "completed"
    },
    "tags": []
   },
   "outputs": [
    {
     "name": "stdout",
     "output_type": "stream",
     "text": [
      "Training Set Shape = (7613, 5)\n",
      "Training Set Memory Usage = 0.29 MB\n",
      "Test Set Shape = (3263, 4)\n",
      "Test Set Memory Usage = 0.10 MB\n"
     ]
    }
   ],
   "source": [
    "print('Training Set Shape = {}'.format(df_train.shape))\n",
    "print('Training Set Memory Usage = {:.2f} MB'.format(df_train.memory_usage().sum() / 1024**2))\n",
    "print('Test Set Shape = {}'.format(df_test.shape))\n",
    "print('Test Set Memory Usage = {:.2f} MB'.format(df_test.memory_usage().sum() / 1024**2))"
   ]
  },
  {
   "cell_type": "markdown",
   "id": "c2f25f47",
   "metadata": {
    "papermill": {
     "duration": 0.023035,
     "end_time": "2023-11-21T07:35:43.583957",
     "exception": false,
     "start_time": "2023-11-21T07:35:43.560922",
     "status": "completed"
    },
    "tags": []
   },
   "source": [
    "#### Explore the dataset"
   ]
  },
  {
   "cell_type": "code",
   "execution_count": 11,
   "id": "38941ba8",
   "metadata": {
    "execution": {
     "iopub.execute_input": "2023-11-21T07:35:43.628224Z",
     "iopub.status.busy": "2023-11-21T07:35:43.627469Z",
     "iopub.status.idle": "2023-11-21T07:35:43.655219Z",
     "shell.execute_reply": "2023-11-21T07:35:43.654083Z"
    },
    "papermill": {
     "duration": 0.052065,
     "end_time": "2023-11-21T07:35:43.657235",
     "exception": false,
     "start_time": "2023-11-21T07:35:43.605170",
     "status": "completed"
    },
    "tags": []
   },
   "outputs": [
    {
     "name": "stdout",
     "output_type": "stream",
     "text": [
      "Train Length Stat\n",
      "count    7613.000000\n",
      "mean      101.037436\n",
      "std        33.781325\n",
      "min         7.000000\n",
      "25%        78.000000\n",
      "50%       107.000000\n",
      "75%       133.000000\n",
      "max       157.000000\n",
      "Name: length, dtype: float64\n",
      "\n",
      "Test Length Stat\n",
      "count    3263.000000\n",
      "mean      102.108183\n",
      "std        33.972158\n",
      "min         5.000000\n",
      "25%        78.000000\n",
      "50%       109.000000\n",
      "75%       134.000000\n",
      "max       151.000000\n",
      "Name: length, dtype: float64\n"
     ]
    }
   ],
   "source": [
    "df_train[\"length\"] = df_train[\"text\"].apply(lambda x : len(x))\n",
    "df_test[\"length\"] = df_test[\"text\"].apply(lambda x : len(x))\n",
    "\n",
    "print(\"Train Length Stat\")\n",
    "print(df_train[\"length\"].describe())\n",
    "print()\n",
    "\n",
    "print(\"Test Length Stat\")\n",
    "print(df_test[\"length\"].describe())"
   ]
  },
  {
   "cell_type": "code",
   "execution_count": 12,
   "id": "7b920fc1",
   "metadata": {
    "execution": {
     "iopub.execute_input": "2023-11-21T07:35:43.701679Z",
     "iopub.status.busy": "2023-11-21T07:35:43.701303Z",
     "iopub.status.idle": "2023-11-21T07:35:43.720372Z",
     "shell.execute_reply": "2023-11-21T07:35:43.719198Z"
    },
    "papermill": {
     "duration": 0.043663,
     "end_time": "2023-11-21T07:35:43.722499",
     "exception": false,
     "start_time": "2023-11-21T07:35:43.678836",
     "status": "completed"
    },
    "tags": []
   },
   "outputs": [
    {
     "name": "stdout",
     "output_type": "stream",
     "text": [
      "<class 'pandas.core.frame.DataFrame'>\n",
      "RangeIndex: 7613 entries, 0 to 7612\n",
      "Data columns (total 6 columns):\n",
      " #   Column    Non-Null Count  Dtype \n",
      "---  ------    --------------  ----- \n",
      " 0   id        7613 non-null   int64 \n",
      " 1   keyword   7552 non-null   object\n",
      " 2   location  5080 non-null   object\n",
      " 3   text      7613 non-null   object\n",
      " 4   target    7613 non-null   int64 \n",
      " 5   length    7613 non-null   int64 \n",
      "dtypes: int64(3), object(3)\n",
      "memory usage: 357.0+ KB\n"
     ]
    }
   ],
   "source": [
    "df_train.info()"
   ]
  },
  {
   "cell_type": "markdown",
   "id": "e4ba3d66",
   "metadata": {
    "papermill": {
     "duration": 0.022205,
     "end_time": "2023-11-21T07:35:43.767884",
     "exception": false,
     "start_time": "2023-11-21T07:35:43.745679",
     "status": "completed"
    },
    "tags": []
   },
   "source": [
    "If you want to know more information about the data, you can grab useful information [here](https://www.kaggle.com/code/alexia/kerasnlp-starter-notebook-disaster-tweets?scriptVersionId=138734217&cellId=10)\n",
    "\n",
    "Note that all the tweets are in english."
   ]
  },
  {
   "cell_type": "markdown",
   "id": "842c8b84",
   "metadata": {
    "papermill": {
     "duration": 0.023667,
     "end_time": "2023-11-21T07:35:43.813609",
     "exception": false,
     "start_time": "2023-11-21T07:35:43.789942",
     "status": "completed"
    },
    "tags": []
   },
   "source": [
    "#### Preprocess the data"
   ]
  },
  {
   "cell_type": "code",
   "execution_count": 13,
   "id": "c267ff3d",
   "metadata": {
    "execution": {
     "iopub.execute_input": "2023-11-21T07:35:43.857920Z",
     "iopub.status.busy": "2023-11-21T07:35:43.857586Z",
     "iopub.status.idle": "2023-11-21T07:35:43.861673Z",
     "shell.execute_reply": "2023-11-21T07:35:43.860827Z"
    },
    "papermill": {
     "duration": 0.028905,
     "end_time": "2023-11-21T07:35:43.863759",
     "exception": false,
     "start_time": "2023-11-21T07:35:43.834854",
     "status": "completed"
    },
    "tags": []
   },
   "outputs": [],
   "source": [
    "lemmatizer=WordNetLemmatizer() # Intitialize lemmstizer"
   ]
  },
  {
   "cell_type": "code",
   "execution_count": 14,
   "id": "00c6eada",
   "metadata": {
    "execution": {
     "iopub.execute_input": "2023-11-21T07:35:43.908217Z",
     "iopub.status.busy": "2023-11-21T07:35:43.907943Z",
     "iopub.status.idle": "2023-11-21T07:35:43.914796Z",
     "shell.execute_reply": "2023-11-21T07:35:43.913909Z"
    },
    "papermill": {
     "duration": 0.031023,
     "end_time": "2023-11-21T07:35:43.916665",
     "exception": false,
     "start_time": "2023-11-21T07:35:43.885642",
     "status": "completed"
    },
    "tags": []
   },
   "outputs": [],
   "source": [
    "def preprocess(df):\n",
    "  corpus=[]\n",
    "  words=[]\n",
    "  for i in range(0, len(df)):                           ## Text cleaning and lemmatizing the tweets\n",
    "    review = re.sub('[^a-zA-Z0-9]', ' ', df['text'][i])\n",
    "    review = review.lower()\n",
    "    review = review.split()\n",
    "\n",
    "    review = [lemmatizer.lemmatize(word) for word in review if not word in stopwords.words('english')]\n",
    "    review = ' '.join(review)\n",
    "    corpus.append(review)\n",
    "\n",
    "  for sent in corpus:                                   ## Tokenize the each words of the tweets\n",
    "    sent_token=sent_tokenize(sent)\n",
    "    for sent in sent_token:\n",
    "      words.append(simple_preprocess(sent))\n",
    "\n",
    "  return corpus, words"
   ]
  },
  {
   "cell_type": "code",
   "execution_count": 15,
   "id": "4a36dd2b",
   "metadata": {
    "execution": {
     "iopub.execute_input": "2023-11-21T07:35:43.961380Z",
     "iopub.status.busy": "2023-11-21T07:35:43.961099Z",
     "iopub.status.idle": "2023-11-21T07:36:09.029915Z",
     "shell.execute_reply": "2023-11-21T07:36:09.028924Z"
    },
    "papermill": {
     "duration": 25.093797,
     "end_time": "2023-11-21T07:36:09.032143",
     "exception": false,
     "start_time": "2023-11-21T07:35:43.938346",
     "status": "completed"
    },
    "tags": []
   },
   "outputs": [],
   "source": [
    "corpus_train,words_train=preprocess(df_train)\n",
    "corpus_test,words_test=preprocess(df_test)"
   ]
  },
  {
   "cell_type": "code",
   "execution_count": 16,
   "id": "e2bcba00",
   "metadata": {
    "execution": {
     "iopub.execute_input": "2023-11-21T07:36:09.076822Z",
     "iopub.status.busy": "2023-11-21T07:36:09.076523Z",
     "iopub.status.idle": "2023-11-21T07:36:10.447403Z",
     "shell.execute_reply": "2023-11-21T07:36:10.446393Z"
    },
    "papermill": {
     "duration": 1.395345,
     "end_time": "2023-11-21T07:36:10.449443",
     "exception": false,
     "start_time": "2023-11-21T07:36:09.054098",
     "status": "completed"
    },
    "tags": []
   },
   "outputs": [
    {
     "name": "stdout",
     "output_type": "stream",
     "text": [
      "[('co', 4745), ('http', 4721), ('fire', 356), ('like', 350), ('amp', 344), ('u', 261), ('get', 255), ('new', 228), ('via', 220), ('2', 217), ('one', 209), ('people', 201), ('news', 200), ('year', 177), ('video', 175), ('time', 166), ('disaster', 161), ('emergency', 159), ('body', 155), ('day', 147)]\n"
     ]
    },
    {
     "data": {
      "text/plain": [
       "20187"
      ]
     },
     "execution_count": 16,
     "metadata": {},
     "output_type": "execute_result"
    }
   ],
   "source": [
    "## Finding the vocabulary size\n",
    "lst = [word for sentence in corpus_train for word in word_tokenize(sentence)]\n",
    "freq_dist = FreqDist(lst)\n",
    "print(freq_dist.most_common(20))\n",
    "rare_threshold = 10000\n",
    "rare_words_train = [word for word, freq in freq_dist.items() if freq < rare_threshold]\n",
    "len(rare_words_train)"
   ]
  },
  {
   "cell_type": "code",
   "execution_count": 17,
   "id": "5030a59d",
   "metadata": {
    "execution": {
     "iopub.execute_input": "2023-11-21T07:36:10.494042Z",
     "iopub.status.busy": "2023-11-21T07:36:10.493699Z",
     "iopub.status.idle": "2023-11-21T07:36:11.087925Z",
     "shell.execute_reply": "2023-11-21T07:36:11.087006Z"
    },
    "papermill": {
     "duration": 0.618463,
     "end_time": "2023-11-21T07:36:11.089828",
     "exception": false,
     "start_time": "2023-11-21T07:36:10.471365",
     "status": "completed"
    },
    "tags": []
   },
   "outputs": [
    {
     "name": "stdout",
     "output_type": "stream",
     "text": [
      "[('co', 2069), ('http', 2059), ('fire', 167), ('amp', 166), ('like', 146), ('get', 126), ('u', 106), ('via', 105), ('new', 103), ('2', 96), ('news', 93), ('one', 90), ('people', 85), ('would', 77), ('year', 76), ('emergency', 73), ('3', 69), ('attack', 69), ('time', 66), ('disaster', 65)]\n"
     ]
    },
    {
     "data": {
      "text/plain": [
       "11431"
      ]
     },
     "execution_count": 17,
     "metadata": {},
     "output_type": "execute_result"
    }
   ],
   "source": [
    "lst = [word for sentence in corpus_test for word in word_tokenize(sentence)]\n",
    "freq_dist = FreqDist(lst)\n",
    "print(freq_dist.most_common(20))\n",
    "rare_threshold = 10000\n",
    "rare_words_test = [word for word, freq in freq_dist.items() if freq < rare_threshold]\n",
    "len(rare_words_test)"
   ]
  },
  {
   "cell_type": "code",
   "execution_count": 18,
   "id": "9892f613",
   "metadata": {
    "execution": {
     "iopub.execute_input": "2023-11-21T07:36:11.135258Z",
     "iopub.status.busy": "2023-11-21T07:36:11.134946Z",
     "iopub.status.idle": "2023-11-21T07:36:13.745631Z",
     "shell.execute_reply": "2023-11-21T07:36:13.744712Z"
    },
    "papermill": {
     "duration": 2.635743,
     "end_time": "2023-11-21T07:36:13.747766",
     "exception": false,
     "start_time": "2023-11-21T07:36:11.112023",
     "status": "completed"
    },
    "tags": []
   },
   "outputs": [
    {
     "data": {
      "text/plain": [
       "17334"
      ]
     },
     "execution_count": 18,
     "metadata": {},
     "output_type": "execute_result"
    }
   ],
   "source": [
    "## Total size of the vocabulary\n",
    "len(rare_words_test)+len([word for word in rare_words_test if word not in rare_words_train])"
   ]
  },
  {
   "cell_type": "code",
   "execution_count": 19,
   "id": "c5ecbe25",
   "metadata": {
    "execution": {
     "iopub.execute_input": "2023-11-21T07:36:13.794205Z",
     "iopub.status.busy": "2023-11-21T07:36:13.793840Z",
     "iopub.status.idle": "2023-11-21T07:36:13.805437Z",
     "shell.execute_reply": "2023-11-21T07:36:13.804461Z"
    },
    "papermill": {
     "duration": 0.036809,
     "end_time": "2023-11-21T07:36:13.807318",
     "exception": false,
     "start_time": "2023-11-21T07:36:13.770509",
     "status": "completed"
    },
    "tags": []
   },
   "outputs": [
    {
     "data": {
      "text/plain": [
       "[137,\n",
       " 'bomb crash loot riot emergency pipe bomb nuclear chemical spill gas ricin leak violence drug cartel cocaine marijuana heroine kidnap bust']"
      ]
     },
     "execution_count": 19,
     "metadata": {},
     "output_type": "execute_result"
    }
   ],
   "source": [
    "## Finding the sentence length\n",
    "\n",
    "max([[i,j] for i,j in zip(list(map(len,corpus_train)),corpus_train)])"
   ]
  },
  {
   "cell_type": "code",
   "execution_count": 20,
   "id": "6d31ca85",
   "metadata": {
    "execution": {
     "iopub.execute_input": "2023-11-21T07:36:13.852954Z",
     "iopub.status.busy": "2023-11-21T07:36:13.852649Z",
     "iopub.status.idle": "2023-11-21T07:36:13.859837Z",
     "shell.execute_reply": "2023-11-21T07:36:13.859010Z"
    },
    "papermill": {
     "duration": 0.032298,
     "end_time": "2023-11-21T07:36:13.861775",
     "exception": false,
     "start_time": "2023-11-21T07:36:13.829477",
     "status": "completed"
    },
    "tags": []
   },
   "outputs": [
    {
     "data": {
      "text/plain": [
       "[132,\n",
       " 'harvardu 90blks amp 8whts colluded 2 take wht f usagov auth hostage amp 2 make look blk w bioterrorism amp use lgl org idis id still']"
      ]
     },
     "execution_count": 20,
     "metadata": {},
     "output_type": "execute_result"
    }
   ],
   "source": [
    "max([[i,j] for i,j in zip(list(map(len,corpus_test)),corpus_test)])"
   ]
  },
  {
   "cell_type": "code",
   "execution_count": 21,
   "id": "748fe721",
   "metadata": {
    "execution": {
     "iopub.execute_input": "2023-11-21T07:36:13.907846Z",
     "iopub.status.busy": "2023-11-21T07:36:13.907252Z",
     "iopub.status.idle": "2023-11-21T07:36:13.911330Z",
     "shell.execute_reply": "2023-11-21T07:36:13.910441Z"
    },
    "papermill": {
     "duration": 0.029268,
     "end_time": "2023-11-21T07:36:13.913175",
     "exception": false,
     "start_time": "2023-11-21T07:36:13.883907",
     "status": "completed"
    },
    "tags": []
   },
   "outputs": [],
   "source": [
    "## Defining the Vocabulary size, sentence lenth, and Dimension for vector\n",
    "voc_size=18000\n",
    "sent_length=30\n",
    "embedding_vector_features=128"
   ]
  },
  {
   "cell_type": "markdown",
   "id": "5e544d97",
   "metadata": {
    "papermill": {
     "duration": 0.022815,
     "end_time": "2023-11-21T07:36:13.958294",
     "exception": false,
     "start_time": "2023-11-21T07:36:13.935479",
     "status": "completed"
    },
    "tags": []
   },
   "source": [
    "##### One Hot Encoding and Padding"
   ]
  },
  {
   "cell_type": "code",
   "execution_count": 22,
   "id": "1282de55",
   "metadata": {
    "execution": {
     "iopub.execute_input": "2023-11-21T07:36:14.005539Z",
     "iopub.status.busy": "2023-11-21T07:36:14.004732Z",
     "iopub.status.idle": "2023-11-21T07:36:14.132877Z",
     "shell.execute_reply": "2023-11-21T07:36:14.131911Z"
    },
    "papermill": {
     "duration": 0.154434,
     "end_time": "2023-11-21T07:36:14.135406",
     "exception": false,
     "start_time": "2023-11-21T07:36:13.980972",
     "status": "completed"
    },
    "tags": []
   },
   "outputs": [
    {
     "data": {
      "text/plain": [
       "[8091, 12200, 3198, 10174, 5417, 10965, 5349]"
      ]
     },
     "execution_count": 22,
     "metadata": {},
     "output_type": "execute_result"
    }
   ],
   "source": [
    "onehot_repr_train=[one_hot(words,voc_size) for words in corpus_train]\n",
    "onehot_repr_train[1]"
   ]
  },
  {
   "cell_type": "code",
   "execution_count": 23,
   "id": "7583bcaa",
   "metadata": {
    "execution": {
     "iopub.execute_input": "2023-11-21T07:36:14.183545Z",
     "iopub.status.busy": "2023-11-21T07:36:14.183237Z",
     "iopub.status.idle": "2023-11-21T07:36:14.188973Z",
     "shell.execute_reply": "2023-11-21T07:36:14.188103Z"
    },
    "papermill": {
     "duration": 0.031553,
     "end_time": "2023-11-21T07:36:14.190833",
     "exception": false,
     "start_time": "2023-11-21T07:36:14.159280",
     "status": "completed"
    },
    "tags": []
   },
   "outputs": [
    {
     "data": {
      "text/plain": [
       "'forest fire near la ronge sask canada'"
      ]
     },
     "execution_count": 23,
     "metadata": {},
     "output_type": "execute_result"
    }
   ],
   "source": [
    "corpus_train[1]"
   ]
  },
  {
   "cell_type": "code",
   "execution_count": 24,
   "id": "71fa159a",
   "metadata": {
    "execution": {
     "iopub.execute_input": "2023-11-21T07:36:14.240972Z",
     "iopub.status.busy": "2023-11-21T07:36:14.240476Z",
     "iopub.status.idle": "2023-11-21T07:36:14.315876Z",
     "shell.execute_reply": "2023-11-21T07:36:14.314920Z"
    },
    "papermill": {
     "duration": 0.104081,
     "end_time": "2023-11-21T07:36:14.318031",
     "exception": false,
     "start_time": "2023-11-21T07:36:14.213950",
     "status": "completed"
    },
    "tags": []
   },
   "outputs": [
    {
     "data": {
      "text/plain": [
       "[15442, 11650, 1887, 6369, 7646, 13531, 6110]"
      ]
     },
     "execution_count": 24,
     "metadata": {},
     "output_type": "execute_result"
    }
   ],
   "source": [
    "onehot_repr_test=[one_hot(words,voc_size) for words in corpus_test]\n",
    "onehot_repr_test[1]"
   ]
  },
  {
   "cell_type": "code",
   "execution_count": 25,
   "id": "ebc594e5",
   "metadata": {
    "execution": {
     "iopub.execute_input": "2023-11-21T07:36:14.367605Z",
     "iopub.status.busy": "2023-11-21T07:36:14.367281Z",
     "iopub.status.idle": "2023-11-21T07:36:14.373355Z",
     "shell.execute_reply": "2023-11-21T07:36:14.372368Z"
    },
    "papermill": {
     "duration": 0.033005,
     "end_time": "2023-11-21T07:36:14.375388",
     "exception": false,
     "start_time": "2023-11-21T07:36:14.342383",
     "status": "completed"
    },
    "tags": []
   },
   "outputs": [
    {
     "data": {
      "text/plain": [
       "'heard earthquake different city stay safe everyone'"
      ]
     },
     "execution_count": 25,
     "metadata": {},
     "output_type": "execute_result"
    }
   ],
   "source": [
    "corpus_test[1]"
   ]
  },
  {
   "cell_type": "code",
   "execution_count": 26,
   "id": "fb6463ba",
   "metadata": {
    "execution": {
     "iopub.execute_input": "2023-11-21T07:36:14.428903Z",
     "iopub.status.busy": "2023-11-21T07:36:14.428494Z",
     "iopub.status.idle": "2023-11-21T07:36:14.471357Z",
     "shell.execute_reply": "2023-11-21T07:36:14.470244Z"
    },
    "papermill": {
     "duration": 0.074352,
     "end_time": "2023-11-21T07:36:14.473708",
     "exception": false,
     "start_time": "2023-11-21T07:36:14.399356",
     "status": "completed"
    },
    "tags": []
   },
   "outputs": [
    {
     "data": {
      "text/plain": [
       "array([    0,     0,     0,     0,     0,     0,     0,     0,     0,\n",
       "           0,     0,     0,     0,     0,     0,     0,     0,     0,\n",
       "           0,     0,     0,     0,     0,  8091, 12200,  3198, 10174,\n",
       "        5417, 10965,  5349], dtype=int32)"
      ]
     },
     "execution_count": 26,
     "metadata": {},
     "output_type": "execute_result"
    }
   ],
   "source": [
    "embedded_doc_train=pad_sequences(onehot_repr_train,padding='pre',maxlen=sent_length)\n",
    "embedded_doc_train[1]"
   ]
  },
  {
   "cell_type": "code",
   "execution_count": 27,
   "id": "d00e6f02",
   "metadata": {
    "execution": {
     "iopub.execute_input": "2023-11-21T07:36:14.524824Z",
     "iopub.status.busy": "2023-11-21T07:36:14.524509Z",
     "iopub.status.idle": "2023-11-21T07:36:14.548789Z",
     "shell.execute_reply": "2023-11-21T07:36:14.547927Z"
    },
    "papermill": {
     "duration": 0.05109,
     "end_time": "2023-11-21T07:36:14.550839",
     "exception": false,
     "start_time": "2023-11-21T07:36:14.499749",
     "status": "completed"
    },
    "tags": []
   },
   "outputs": [],
   "source": [
    "embedded_doc_test=pad_sequences(onehot_repr_test,padding='pre',maxlen=sent_length)"
   ]
  },
  {
   "cell_type": "code",
   "execution_count": 28,
   "id": "9c2197c8",
   "metadata": {
    "execution": {
     "iopub.execute_input": "2023-11-21T07:36:14.614543Z",
     "iopub.status.busy": "2023-11-21T07:36:14.614220Z",
     "iopub.status.idle": "2023-11-21T07:36:14.619018Z",
     "shell.execute_reply": "2023-11-21T07:36:14.618189Z"
    },
    "papermill": {
     "duration": 0.035822,
     "end_time": "2023-11-21T07:36:14.620951",
     "exception": false,
     "start_time": "2023-11-21T07:36:14.585129",
     "status": "completed"
    },
    "tags": []
   },
   "outputs": [],
   "source": [
    "X=np.array(embedded_doc_train)\n",
    "Y=np.array(df_train['target'])"
   ]
  },
  {
   "cell_type": "code",
   "execution_count": 29,
   "id": "fcee4945",
   "metadata": {
    "execution": {
     "iopub.execute_input": "2023-11-21T07:36:14.675429Z",
     "iopub.status.busy": "2023-11-21T07:36:14.674622Z",
     "iopub.status.idle": "2023-11-21T07:36:14.681183Z",
     "shell.execute_reply": "2023-11-21T07:36:14.680330Z"
    },
    "papermill": {
     "duration": 0.033497,
     "end_time": "2023-11-21T07:36:14.683762",
     "exception": false,
     "start_time": "2023-11-21T07:36:14.650265",
     "status": "completed"
    },
    "tags": []
   },
   "outputs": [],
   "source": [
    "X_train, X_val, y_train, y_val = train_test_split(X, Y, test_size=0.40, random_state=0)\n",
    "\n",
    "X_test=np.array(embedded_doc_test)"
   ]
  },
  {
   "cell_type": "markdown",
   "id": "0e624230",
   "metadata": {
    "papermill": {
     "duration": 0.023318,
     "end_time": "2023-11-21T07:36:14.736066",
     "exception": false,
     "start_time": "2023-11-21T07:36:14.712748",
     "status": "completed"
    },
    "tags": []
   },
   "source": [
    "#### Bulding,Training and Evaluating the Model"
   ]
  },
  {
   "cell_type": "code",
   "execution_count": 30,
   "id": "20afeefc",
   "metadata": {
    "execution": {
     "iopub.execute_input": "2023-11-21T07:36:14.783393Z",
     "iopub.status.busy": "2023-11-21T07:36:14.783056Z",
     "iopub.status.idle": "2023-11-21T07:36:18.321463Z",
     "shell.execute_reply": "2023-11-21T07:36:18.320509Z"
    },
    "papermill": {
     "duration": 3.56455,
     "end_time": "2023-11-21T07:36:18.323815",
     "exception": false,
     "start_time": "2023-11-21T07:36:14.759265",
     "status": "completed"
    },
    "tags": []
   },
   "outputs": [],
   "source": [
    "## Model Build\n",
    "\n",
    "model = Sequential()\n",
    "model.add(Embedding(voc_size, embedding_vector_features, input_length=sent_length))\n",
    "model.add(Dropout(0.3))\n",
    "model.add(BatchNormalization())\n",
    "model.add(Bidirectional(LSTM(50)))\n",
    "model.add(Dropout(0.3))\n",
    "model.add(BatchNormalization())\n",
    "model.add(Dense(units=1, activation=None))\n",
    "model.compile(loss=tf.keras.losses.BinaryCrossentropy(from_logits=True),optimizer=keras.optimizers.Adam(learning_rate=1e-5, clipvalue=0.5),metrics=['accuracy'])"
   ]
  },
  {
   "cell_type": "code",
   "execution_count": 31,
   "id": "2c9f8dfd",
   "metadata": {
    "execution": {
     "iopub.execute_input": "2023-11-21T07:36:18.371279Z",
     "iopub.status.busy": "2023-11-21T07:36:18.370990Z",
     "iopub.status.idle": "2023-11-21T07:36:18.399734Z",
     "shell.execute_reply": "2023-11-21T07:36:18.398815Z"
    },
    "papermill": {
     "duration": 0.059589,
     "end_time": "2023-11-21T07:36:18.406853",
     "exception": false,
     "start_time": "2023-11-21T07:36:18.347264",
     "status": "completed"
    },
    "tags": []
   },
   "outputs": [
    {
     "name": "stdout",
     "output_type": "stream",
     "text": [
      "Model: \"sequential\"\n",
      "_________________________________________________________________\n",
      " Layer (type)                Output Shape              Param #   \n",
      "=================================================================\n",
      " embedding (Embedding)       (None, 30, 128)           2304000   \n",
      "                                                                 \n",
      " dropout (Dropout)           (None, 30, 128)           0         \n",
      "                                                                 \n",
      " batch_normalization (Batch  (None, 30, 128)           512       \n",
      " Normalization)                                                  \n",
      "                                                                 \n",
      " bidirectional (Bidirection  (None, 100)               71600     \n",
      " al)                                                             \n",
      "                                                                 \n",
      " dropout_1 (Dropout)         (None, 100)               0         \n",
      "                                                                 \n",
      " batch_normalization_1 (Bat  (None, 100)               400       \n",
      " chNormalization)                                                \n",
      "                                                                 \n",
      " dense (Dense)               (None, 1)                 101       \n",
      "                                                                 \n",
      "=================================================================\n",
      "Total params: 2376613 (9.07 MB)\n",
      "Trainable params: 2376157 (9.06 MB)\n",
      "Non-trainable params: 456 (1.78 KB)\n",
      "_________________________________________________________________\n",
      "None\n"
     ]
    }
   ],
   "source": [
    "## Model Summary\n",
    "print(model.summary())"
   ]
  },
  {
   "cell_type": "code",
   "execution_count": 32,
   "id": "f917d600",
   "metadata": {
    "execution": {
     "iopub.execute_input": "2023-11-21T07:36:18.459065Z",
     "iopub.status.busy": "2023-11-21T07:36:18.458613Z",
     "iopub.status.idle": "2023-11-21T07:36:18.463645Z",
     "shell.execute_reply": "2023-11-21T07:36:18.462752Z"
    },
    "papermill": {
     "duration": 0.033742,
     "end_time": "2023-11-21T07:36:18.465760",
     "exception": false,
     "start_time": "2023-11-21T07:36:18.432018",
     "status": "completed"
    },
    "tags": []
   },
   "outputs": [],
   "source": [
    "## Early Stopping\n",
    "\n",
    "early_stopping=tf.keras.callbacks.EarlyStopping(\n",
    "    monitor='val_loss',\n",
    "    min_delta=0.0001,\n",
    "    patience=20,\n",
    "    verbose=1,\n",
    "    mode='auto',\n",
    "    baseline=None,\n",
    "    restore_best_weights=False\n",
    ")"
   ]
  },
  {
   "cell_type": "code",
   "execution_count": 33,
   "id": "dc1bf643",
   "metadata": {
    "execution": {
     "iopub.execute_input": "2023-11-21T07:36:18.518621Z",
     "iopub.status.busy": "2023-11-21T07:36:18.518359Z",
     "iopub.status.idle": "2023-11-21T07:38:18.517374Z",
     "shell.execute_reply": "2023-11-21T07:38:18.516380Z"
    },
    "papermill": {
     "duration": 120.027879,
     "end_time": "2023-11-21T07:38:18.519480",
     "exception": false,
     "start_time": "2023-11-21T07:36:18.491601",
     "status": "completed"
    },
    "tags": []
   },
   "outputs": [
    {
     "name": "stdout",
     "output_type": "stream",
     "text": [
      "Epoch 1/50\n",
      "143/143 [==============================] - 24s 109ms/step - loss: 0.8555 - accuracy: 0.5467 - val_loss: 0.6767 - val_accuracy: 0.5785\n",
      "Epoch 2/50\n",
      "143/143 [==============================] - 6s 39ms/step - loss: 0.8342 - accuracy: 0.5535 - val_loss: 0.6731 - val_accuracy: 0.5785\n",
      "Epoch 3/50\n",
      "143/143 [==============================] - 4s 25ms/step - loss: 0.8228 - accuracy: 0.5713 - val_loss: 0.6589 - val_accuracy: 0.5785\n",
      "Epoch 4/50\n",
      "143/143 [==============================] - 4s 25ms/step - loss: 0.7942 - accuracy: 0.5807 - val_loss: 0.6517 - val_accuracy: 0.5949\n",
      "Epoch 5/50\n",
      "143/143 [==============================] - 3s 19ms/step - loss: 0.8081 - accuracy: 0.5711 - val_loss: 0.6630 - val_accuracy: 0.6133\n",
      "Epoch 6/50\n",
      "143/143 [==============================] - 2s 15ms/step - loss: 0.7876 - accuracy: 0.5787 - val_loss: 0.6661 - val_accuracy: 0.6225\n",
      "Epoch 7/50\n",
      "143/143 [==============================] - 2s 17ms/step - loss: 0.7787 - accuracy: 0.5805 - val_loss: 0.6642 - val_accuracy: 0.6267\n",
      "Epoch 8/50\n",
      "143/143 [==============================] - 2s 15ms/step - loss: 0.7647 - accuracy: 0.5840 - val_loss: 0.6589 - val_accuracy: 0.6316\n",
      "Epoch 9/50\n",
      "143/143 [==============================] - 2s 14ms/step - loss: 0.7555 - accuracy: 0.5991 - val_loss: 0.6536 - val_accuracy: 0.6343\n",
      "Epoch 10/50\n",
      "143/143 [==============================] - 2s 17ms/step - loss: 0.7341 - accuracy: 0.6081 - val_loss: 0.6509 - val_accuracy: 0.6435\n",
      "Epoch 11/50\n",
      "143/143 [==============================] - 1s 10ms/step - loss: 0.7420 - accuracy: 0.6035 - val_loss: 0.6482 - val_accuracy: 0.6484\n",
      "Epoch 12/50\n",
      "143/143 [==============================] - 2s 11ms/step - loss: 0.7068 - accuracy: 0.6236 - val_loss: 0.6428 - val_accuracy: 0.6500\n",
      "Epoch 13/50\n",
      "143/143 [==============================] - 2s 12ms/step - loss: 0.7337 - accuracy: 0.6116 - val_loss: 0.6375 - val_accuracy: 0.6563\n",
      "Epoch 14/50\n",
      "143/143 [==============================] - 2s 17ms/step - loss: 0.7107 - accuracy: 0.6208 - val_loss: 0.6300 - val_accuracy: 0.6602\n",
      "Epoch 15/50\n",
      "143/143 [==============================] - 3s 19ms/step - loss: 0.6790 - accuracy: 0.6346 - val_loss: 0.6286 - val_accuracy: 0.6671\n",
      "Epoch 16/50\n",
      "143/143 [==============================] - 2s 14ms/step - loss: 0.6750 - accuracy: 0.6494 - val_loss: 0.6214 - val_accuracy: 0.6710\n",
      "Epoch 17/50\n",
      "143/143 [==============================] - 2s 12ms/step - loss: 0.6662 - accuracy: 0.6505 - val_loss: 0.6158 - val_accuracy: 0.6710\n",
      "Epoch 18/50\n",
      "143/143 [==============================] - 2s 14ms/step - loss: 0.6520 - accuracy: 0.6567 - val_loss: 0.6125 - val_accuracy: 0.6766\n",
      "Epoch 19/50\n",
      "143/143 [==============================] - 2s 12ms/step - loss: 0.6484 - accuracy: 0.6606 - val_loss: 0.6052 - val_accuracy: 0.6819\n",
      "Epoch 20/50\n",
      "143/143 [==============================] - 2s 13ms/step - loss: 0.6303 - accuracy: 0.6705 - val_loss: 0.6025 - val_accuracy: 0.6871\n",
      "Epoch 21/50\n",
      "143/143 [==============================] - 2s 17ms/step - loss: 0.6296 - accuracy: 0.6696 - val_loss: 0.5934 - val_accuracy: 0.6878\n",
      "Epoch 22/50\n",
      "143/143 [==============================] - 2s 11ms/step - loss: 0.6123 - accuracy: 0.6777 - val_loss: 0.5876 - val_accuracy: 0.6914\n",
      "Epoch 23/50\n",
      "143/143 [==============================] - 2s 10ms/step - loss: 0.6038 - accuracy: 0.6895 - val_loss: 0.5833 - val_accuracy: 0.6976\n",
      "Epoch 24/50\n",
      "143/143 [==============================] - 2s 12ms/step - loss: 0.5979 - accuracy: 0.6939 - val_loss: 0.5813 - val_accuracy: 0.7085\n",
      "Epoch 25/50\n",
      "143/143 [==============================] - 2s 11ms/step - loss: 0.5780 - accuracy: 0.7055 - val_loss: 0.5738 - val_accuracy: 0.7121\n",
      "Epoch 26/50\n",
      "143/143 [==============================] - 2s 12ms/step - loss: 0.5622 - accuracy: 0.7206 - val_loss: 0.5660 - val_accuracy: 0.7114\n",
      "Epoch 27/50\n",
      "143/143 [==============================] - 2s 12ms/step - loss: 0.5430 - accuracy: 0.7221 - val_loss: 0.5623 - val_accuracy: 0.7209\n",
      "Epoch 28/50\n",
      "143/143 [==============================] - 2s 12ms/step - loss: 0.5511 - accuracy: 0.7274 - val_loss: 0.5589 - val_accuracy: 0.7272\n",
      "Epoch 29/50\n",
      "143/143 [==============================] - 2s 14ms/step - loss: 0.5254 - accuracy: 0.7377 - val_loss: 0.5524 - val_accuracy: 0.7298\n",
      "Epoch 30/50\n",
      "143/143 [==============================] - 2s 12ms/step - loss: 0.5046 - accuracy: 0.7537 - val_loss: 0.5470 - val_accuracy: 0.7328\n",
      "Epoch 31/50\n",
      "143/143 [==============================] - 2s 12ms/step - loss: 0.4972 - accuracy: 0.7620 - val_loss: 0.5420 - val_accuracy: 0.7351\n",
      "Epoch 32/50\n",
      "143/143 [==============================] - 2s 14ms/step - loss: 0.4778 - accuracy: 0.7653 - val_loss: 0.5370 - val_accuracy: 0.7367\n",
      "Epoch 33/50\n",
      "143/143 [==============================] - 2s 11ms/step - loss: 0.4806 - accuracy: 0.7679 - val_loss: 0.5323 - val_accuracy: 0.7410\n",
      "Epoch 34/50\n",
      "143/143 [==============================] - 2s 12ms/step - loss: 0.4575 - accuracy: 0.7839 - val_loss: 0.5296 - val_accuracy: 0.7466\n",
      "Epoch 35/50\n",
      "143/143 [==============================] - 1s 10ms/step - loss: 0.4473 - accuracy: 0.7788 - val_loss: 0.5270 - val_accuracy: 0.7479\n",
      "Epoch 36/50\n",
      "143/143 [==============================] - 1s 10ms/step - loss: 0.4422 - accuracy: 0.7832 - val_loss: 0.5239 - val_accuracy: 0.7498\n",
      "Epoch 37/50\n",
      "143/143 [==============================] - 2s 11ms/step - loss: 0.4124 - accuracy: 0.8108 - val_loss: 0.5210 - val_accuracy: 0.7508\n",
      "Epoch 38/50\n",
      "143/143 [==============================] - 2s 11ms/step - loss: 0.4206 - accuracy: 0.8102 - val_loss: 0.5203 - val_accuracy: 0.7528\n",
      "Epoch 39/50\n",
      "143/143 [==============================] - 2s 11ms/step - loss: 0.3947 - accuracy: 0.8187 - val_loss: 0.5190 - val_accuracy: 0.7554\n",
      "Epoch 40/50\n",
      "143/143 [==============================] - 2s 11ms/step - loss: 0.3981 - accuracy: 0.8185 - val_loss: 0.5187 - val_accuracy: 0.7561\n",
      "Epoch 41/50\n",
      "143/143 [==============================] - 2s 12ms/step - loss: 0.3833 - accuracy: 0.8189 - val_loss: 0.5189 - val_accuracy: 0.7590\n",
      "Epoch 42/50\n",
      "143/143 [==============================] - 2s 11ms/step - loss: 0.3734 - accuracy: 0.8338 - val_loss: 0.5193 - val_accuracy: 0.7623\n",
      "Epoch 43/50\n",
      "143/143 [==============================] - 1s 10ms/step - loss: 0.3613 - accuracy: 0.8426 - val_loss: 0.5193 - val_accuracy: 0.7663\n",
      "Epoch 44/50\n",
      "143/143 [==============================] - 2s 12ms/step - loss: 0.3411 - accuracy: 0.8465 - val_loss: 0.5201 - val_accuracy: 0.7659\n",
      "Epoch 45/50\n",
      "143/143 [==============================] - 1s 10ms/step - loss: 0.3399 - accuracy: 0.8498 - val_loss: 0.5215 - val_accuracy: 0.7669\n",
      "Epoch 46/50\n",
      "143/143 [==============================] - 2s 11ms/step - loss: 0.3360 - accuracy: 0.8491 - val_loss: 0.5229 - val_accuracy: 0.7682\n",
      "Epoch 47/50\n",
      "143/143 [==============================] - 2s 12ms/step - loss: 0.3268 - accuracy: 0.8605 - val_loss: 0.5248 - val_accuracy: 0.7705\n",
      "Epoch 48/50\n",
      "143/143 [==============================] - 2s 14ms/step - loss: 0.3254 - accuracy: 0.8568 - val_loss: 0.5278 - val_accuracy: 0.7712\n",
      "Epoch 49/50\n",
      "143/143 [==============================] - 1s 10ms/step - loss: 0.3156 - accuracy: 0.8592 - val_loss: 0.5301 - val_accuracy: 0.7718\n",
      "Epoch 50/50\n",
      "143/143 [==============================] - 2s 13ms/step - loss: 0.3124 - accuracy: 0.8686 - val_loss: 0.5335 - val_accuracy: 0.7715\n"
     ]
    }
   ],
   "source": [
    "## Training the model\n",
    "\n",
    "model_history = model.fit(X_train, y_train, validation_data = (X_val,y_val), epochs=50, batch_size = 32, callbacks = early_stopping)"
   ]
  },
  {
   "cell_type": "code",
   "execution_count": 34,
   "id": "0ae92815",
   "metadata": {
    "execution": {
     "iopub.execute_input": "2023-11-21T07:38:18.778105Z",
     "iopub.status.busy": "2023-11-21T07:38:18.777260Z",
     "iopub.status.idle": "2023-11-21T07:38:19.094770Z",
     "shell.execute_reply": "2023-11-21T07:38:19.093777Z"
    },
    "papermill": {
     "duration": 0.448836,
     "end_time": "2023-11-21T07:38:19.097051",
     "exception": false,
     "start_time": "2023-11-21T07:38:18.648215",
     "status": "completed"
    },
    "tags": []
   },
   "outputs": [
    {
     "data": {
      "image/png": "[encoded data removed]",
      "text/plain": [
       "<Figure size 640x480 with 1 Axes>"
      ]
     },
     "metadata": {},
     "output_type": "display_data"
    }
   ],
   "source": [
    "## Visualizing the Accuracy of model training\n",
    "plt.plot(model_history.history[ 'accuracy'])\n",
    "plt.plot(model_history.history[ 'val_accuracy'])\n",
    "plt.title('Model Accuracy')\n",
    "plt.xlabel('epoch')\n",
    "plt.ylabel('Accuracy')\n",
    "plt.legend(['train','test'], loc='upper left')\n",
    "plt.show()"
   ]
  },
  {
   "cell_type": "code",
   "execution_count": 35,
   "id": "dce7873d",
   "metadata": {
    "execution": {
     "iopub.execute_input": "2023-11-21T07:38:19.360541Z",
     "iopub.status.busy": "2023-11-21T07:38:19.359678Z",
     "iopub.status.idle": "2023-11-21T07:38:19.581487Z",
     "shell.execute_reply": "2023-11-21T07:38:19.580578Z"
    },
    "papermill": {
     "duration": 0.354478,
     "end_time": "2023-11-21T07:38:19.583523",
     "exception": false,
     "start_time": "2023-11-21T07:38:19.229045",
     "status": "completed"
    },
    "tags": []
   },
   "outputs": [
    {
     "data": {
      "image/png": "[encoded data removed]",
      "text/plain": [
       "<Figure size 640x480 with 1 Axes>"
      ]
     },
     "metadata": {},
     "output_type": "display_data"
    }
   ],
   "source": [
    "## Visualizing the model loss in training\n",
    "\n",
    "plt.plot(model_history.history[ 'loss'])\n",
    "plt.plot(model_history.history[ 'val_loss'])\n",
    "plt.title('Model Loss')\n",
    "plt.xlabel('epoch')\n",
    "plt.ylabel('loss')\n",
    "plt.legend(['train','test'], loc='upper left')\n",
    "plt.show()"
   ]
  },
  {
   "cell_type": "code",
   "execution_count": 36,
   "id": "e5a84858",
   "metadata": {
    "execution": {
     "iopub.execute_input": "2023-11-21T07:38:19.843203Z",
     "iopub.status.busy": "2023-11-21T07:38:19.842478Z",
     "iopub.status.idle": "2023-11-21T07:38:20.999067Z",
     "shell.execute_reply": "2023-11-21T07:38:20.997987Z"
    },
    "papermill": {
     "duration": 1.288957,
     "end_time": "2023-11-21T07:38:21.002029",
     "exception": false,
     "start_time": "2023-11-21T07:38:19.713072",
     "status": "completed"
    },
    "tags": []
   },
   "outputs": [
    {
     "name": "stdout",
     "output_type": "stream",
     "text": [
      "96/96 [==============================] - 1s 3ms/step\n"
     ]
    }
   ],
   "source": [
    "y_pred=model.predict(X_val) ## Prediciting the validation data"
   ]
  },
  {
   "cell_type": "code",
   "execution_count": 37,
   "id": "db030161",
   "metadata": {
    "execution": {
     "iopub.execute_input": "2023-11-21T07:38:21.279167Z",
     "iopub.status.busy": "2023-11-21T07:38:21.278316Z",
     "iopub.status.idle": "2023-11-21T07:38:21.283748Z",
     "shell.execute_reply": "2023-11-21T07:38:21.282800Z"
    },
    "papermill": {
     "duration": 0.142968,
     "end_time": "2023-11-21T07:38:21.285773",
     "exception": false,
     "start_time": "2023-11-21T07:38:21.142805",
     "status": "completed"
    },
    "tags": []
   },
   "outputs": [],
   "source": [
    "y_pred=np.where(y_pred > 0.6, 1,0) ##AUC ROC Curve"
   ]
  },
  {
   "cell_type": "code",
   "execution_count": 38,
   "id": "11e9a02a",
   "metadata": {
    "execution": {
     "iopub.execute_input": "2023-11-21T07:38:21.554406Z",
     "iopub.status.busy": "2023-11-21T07:38:21.553479Z",
     "iopub.status.idle": "2023-11-21T07:38:21.564138Z",
     "shell.execute_reply": "2023-11-21T07:38:21.563232Z"
    },
    "papermill": {
     "duration": 0.1474,
     "end_time": "2023-11-21T07:38:21.566363",
     "exception": false,
     "start_time": "2023-11-21T07:38:21.418963",
     "status": "completed"
    },
    "tags": []
   },
   "outputs": [
    {
     "data": {
      "text/plain": [
       "array([[1561,  201],\n",
       "       [ 494,  790]])"
      ]
     },
     "execution_count": 38,
     "metadata": {},
     "output_type": "execute_result"
    }
   ],
   "source": [
    "confusion_matrix(y_val,y_pred)  ## Confusion matrix for validation data"
   ]
  },
  {
   "cell_type": "code",
   "execution_count": 39,
   "id": "2b53b5a5",
   "metadata": {
    "execution": {
     "iopub.execute_input": "2023-11-21T07:38:21.831474Z",
     "iopub.status.busy": "2023-11-21T07:38:21.830826Z",
     "iopub.status.idle": "2023-11-21T07:38:21.836794Z",
     "shell.execute_reply": "2023-11-21T07:38:21.835927Z"
    },
    "papermill": {
     "duration": 0.141588,
     "end_time": "2023-11-21T07:38:21.838708",
     "exception": false,
     "start_time": "2023-11-21T07:38:21.697120",
     "status": "completed"
    },
    "tags": []
   },
   "outputs": [],
   "source": [
    "def displayConfusionMatrix(y_true, y_pred, dataset):\n",
    "    disp = ConfusionMatrixDisplay.from_predictions(\n",
    "        y_true,\n",
    "        y_pred,\n",
    "        display_labels=[\"Not Disaster\",\"Disaster\"],\n",
    "        cmap=plt.cm.Blues\n",
    "    )\n",
    "\n",
    "    tn, fp, fn, tp = confusion_matrix(y_true,y_pred).ravel()\n",
    "    f1_score = tp / (tp+((fn+fp)/2))\n",
    "\n",
    "    disp.ax_.set_title(\"Confusion Matrix on \" + dataset + \" Dataset -- F1 Score: \" + str(f1_score.round(2)))"
   ]
  },
  {
   "cell_type": "code",
   "execution_count": 40,
   "id": "0fb259f7",
   "metadata": {
    "execution": {
     "iopub.execute_input": "2023-11-21T07:38:22.100419Z",
     "iopub.status.busy": "2023-11-21T07:38:22.099495Z",
     "iopub.status.idle": "2023-11-21T07:38:22.352789Z",
     "shell.execute_reply": "2023-11-21T07:38:22.351893Z"
    },
    "papermill": {
     "duration": 0.385551,
     "end_time": "2023-11-21T07:38:22.354758",
     "exception": false,
     "start_time": "2023-11-21T07:38:21.969207",
     "status": "completed"
    },
    "tags": []
   },
   "outputs": [
    {
     "data": {
      "image/png": "[encoded data removed]",
      "text/plain": [
       "<Figure size 640x480 with 2 Axes>"
      ]
     },
     "metadata": {},
     "output_type": "display_data"
    }
   ],
   "source": [
    "displayConfusionMatrix(y_val, y_pred, \"Validation\")"
   ]
  },
  {
   "cell_type": "code",
   "execution_count": 41,
   "id": "eeb12bdc",
   "metadata": {
    "execution": {
     "iopub.execute_input": "2023-11-21T07:38:22.616551Z",
     "iopub.status.busy": "2023-11-21T07:38:22.616190Z",
     "iopub.status.idle": "2023-11-21T07:38:22.623470Z",
     "shell.execute_reply": "2023-11-21T07:38:22.622654Z"
    },
    "papermill": {
     "duration": 0.139928,
     "end_time": "2023-11-21T07:38:22.625395",
     "exception": false,
     "start_time": "2023-11-21T07:38:22.485467",
     "status": "completed"
    },
    "tags": []
   },
   "outputs": [
    {
     "data": {
      "text/plain": [
       "0.7718319107025607"
      ]
     },
     "execution_count": 41,
     "metadata": {},
     "output_type": "execute_result"
    }
   ],
   "source": [
    "accuracy_score(y_val,y_pred)"
   ]
  },
  {
   "cell_type": "code",
   "execution_count": 42,
   "id": "b12e2b8e",
   "metadata": {
    "execution": {
     "iopub.execute_input": "2023-11-21T07:38:22.895405Z",
     "iopub.status.busy": "2023-11-21T07:38:22.895042Z",
     "iopub.status.idle": "2023-11-21T07:38:22.912528Z",
     "shell.execute_reply": "2023-11-21T07:38:22.911349Z"
    },
    "papermill": {
     "duration": 0.151694,
     "end_time": "2023-11-21T07:38:22.914611",
     "exception": false,
     "start_time": "2023-11-21T07:38:22.762917",
     "status": "completed"
    },
    "tags": []
   },
   "outputs": [
    {
     "name": "stdout",
     "output_type": "stream",
     "text": [
      "              precision    recall  f1-score   support\n",
      "\n",
      "           0       0.76      0.89      0.82      1762\n",
      "           1       0.80      0.62      0.69      1284\n",
      "\n",
      "    accuracy                           0.77      3046\n",
      "   macro avg       0.78      0.75      0.76      3046\n",
      "weighted avg       0.78      0.77      0.77      3046\n",
      "\n"
     ]
    }
   ],
   "source": [
    "print(classification_report(y_val,y_pred))"
   ]
  },
  {
   "cell_type": "code",
   "execution_count": 43,
   "id": "6b45b1a4",
   "metadata": {
    "execution": {
     "iopub.execute_input": "2023-11-21T07:38:23.192775Z",
     "iopub.status.busy": "2023-11-21T07:38:23.192433Z",
     "iopub.status.idle": "2023-11-21T07:38:23.728394Z",
     "shell.execute_reply": "2023-11-21T07:38:23.727548Z"
    },
    "papermill": {
     "duration": 0.672122,
     "end_time": "2023-11-21T07:38:23.730382",
     "exception": false,
     "start_time": "2023-11-21T07:38:23.058260",
     "status": "completed"
    },
    "tags": []
   },
   "outputs": [
    {
     "name": "stdout",
     "output_type": "stream",
     "text": [
      "143/143 [==============================] - 0s 3ms/step\n"
     ]
    }
   ],
   "source": [
    "y_pred=np.where( model.predict(X_train)> 0.6, 1,0)"
   ]
  },
  {
   "cell_type": "code",
   "execution_count": 44,
   "id": "75d3bf93",
   "metadata": {
    "execution": {
     "iopub.execute_input": "2023-11-21T07:38:23.999691Z",
     "iopub.status.busy": "2023-11-21T07:38:23.998820Z",
     "iopub.status.idle": "2023-11-21T07:38:24.244838Z",
     "shell.execute_reply": "2023-11-21T07:38:24.243892Z"
    },
    "papermill": {
     "duration": 0.383462,
     "end_time": "2023-11-21T07:38:24.246771",
     "exception": false,
     "start_time": "2023-11-21T07:38:23.863309",
     "status": "completed"
    },
    "tags": []
   },
   "outputs": [
    {
     "data": {
      "image/png": "[encoded data removed]",
      "text/plain": [
       "<Figure size 640x480 with 2 Axes>"
      ]
     },
     "metadata": {},
     "output_type": "display_data"
    }
   ],
   "source": [
    "displayConfusionMatrix(y_train, y_pred, \"Training\")"
   ]
  },
  {
   "cell_type": "code",
   "execution_count": 45,
   "id": "575b8303",
   "metadata": {
    "execution": {
     "iopub.execute_input": "2023-11-21T07:38:24.512408Z",
     "iopub.status.busy": "2023-11-21T07:38:24.511652Z",
     "iopub.status.idle": "2023-11-21T07:38:24.519363Z",
     "shell.execute_reply": "2023-11-21T07:38:24.518371Z"
    },
    "papermill": {
     "duration": 0.14274,
     "end_time": "2023-11-21T07:38:24.521250",
     "exception": false,
     "start_time": "2023-11-21T07:38:24.378510",
     "status": "completed"
    },
    "tags": []
   },
   "outputs": [
    {
     "data": {
      "text/plain": [
       "0.9176702430479527"
      ]
     },
     "execution_count": 45,
     "metadata": {},
     "output_type": "execute_result"
    }
   ],
   "source": [
    "accuracy_score(y_train,y_pred)"
   ]
  },
  {
   "cell_type": "code",
   "execution_count": 46,
   "id": "0d8cd5a1",
   "metadata": {
    "execution": {
     "iopub.execute_input": "2023-11-21T07:38:24.831599Z",
     "iopub.status.busy": "2023-11-21T07:38:24.831259Z",
     "iopub.status.idle": "2023-11-21T07:38:24.851019Z",
     "shell.execute_reply": "2023-11-21T07:38:24.849975Z"
    },
    "papermill": {
     "duration": 0.199677,
     "end_time": "2023-11-21T07:38:24.852980",
     "exception": false,
     "start_time": "2023-11-21T07:38:24.653303",
     "status": "completed"
    },
    "tags": []
   },
   "outputs": [
    {
     "name": "stdout",
     "output_type": "stream",
     "text": [
      "              precision    recall  f1-score   support\n",
      "\n",
      "           0       0.88      0.99      0.93      2580\n",
      "           1       0.98      0.83      0.90      1987\n",
      "\n",
      "    accuracy                           0.92      4567\n",
      "   macro avg       0.93      0.91      0.91      4567\n",
      "weighted avg       0.92      0.92      0.92      4567\n",
      "\n"
     ]
    }
   ],
   "source": [
    "print(classification_report(y_train,y_pred))"
   ]
  },
  {
   "cell_type": "markdown",
   "id": "1f581b33",
   "metadata": {
    "papermill": {
     "duration": 0.131827,
     "end_time": "2023-11-21T07:38:25.118417",
     "exception": false,
     "start_time": "2023-11-21T07:38:24.986590",
     "status": "completed"
    },
    "tags": []
   },
   "source": [
    "#### Hyperparameter Tuning"
   ]
  },
  {
   "cell_type": "code",
   "execution_count": 47,
   "id": "bfa0537a",
   "metadata": {
    "execution": {
     "iopub.execute_input": "2023-11-21T07:38:25.387709Z",
     "iopub.status.busy": "2023-11-21T07:38:25.386800Z",
     "iopub.status.idle": "2023-11-21T07:38:25.395088Z",
     "shell.execute_reply": "2023-11-21T07:38:25.394160Z"
    },
    "papermill": {
     "duration": 0.144187,
     "end_time": "2023-11-21T07:38:25.397030",
     "exception": false,
     "start_time": "2023-11-21T07:38:25.252843",
     "status": "completed"
    },
    "tags": []
   },
   "outputs": [],
   "source": [
    "def model_builder(hp):\n",
    "  model = Sequential()\n",
    "  hp_dim = hp.Int('dim', min_value=32, max_value=168, step=32)\n",
    "  model.add(Embedding(voc_size, hp_dim, input_length=sent_length))\n",
    "  model.add(Dropout(0.3))\n",
    "  model.add(BatchNormalization())\n",
    "\n",
    "  hp_units1 = hp.Int('units1', min_value=10, max_value=100, step=10)\n",
    "  model.add(Bidirectional(LSTM(hp_units1)))\n",
    "  model.add(Dropout(0.3))\n",
    "  model.add(BatchNormalization())\n",
    "    \n",
    "  model.add(Dense(units=1, activation=None))\n",
    "\n",
    "  # Tune the learning rate for the optimizer\n",
    "  # Choose an optimal value from 0.01, 0.001, or 0.0001\n",
    "  hp_learning_rate = hp.Choice('learning_rate', values=[1e-4, 1e-5, 1e-6])\n",
    "\n",
    "  model.compile(optimizer=keras.optimizers.Adam(learning_rate=hp_learning_rate, clipvalue=0.5),\n",
    "                loss=tf.keras.losses.BinaryCrossentropy(from_logits=True),\n",
    "                metrics=['accuracy'])\n",
    "\n",
    "  return model"
   ]
  },
  {
   "cell_type": "code",
   "execution_count": 48,
   "id": "e2fa29b2",
   "metadata": {
    "execution": {
     "iopub.execute_input": "2023-11-21T07:38:25.664354Z",
     "iopub.status.busy": "2023-11-21T07:38:25.663989Z",
     "iopub.status.idle": "2023-11-21T07:38:26.225624Z",
     "shell.execute_reply": "2023-11-21T07:38:26.224813Z"
    },
    "papermill": {
     "duration": 0.697202,
     "end_time": "2023-11-21T07:38:26.227848",
     "exception": false,
     "start_time": "2023-11-21T07:38:25.530646",
     "status": "completed"
    },
    "tags": []
   },
   "outputs": [],
   "source": [
    "tuner = kt.RandomSearch(model_builder,\n",
    "                     objective='val_accuracy',\n",
    "                     max_trials=50,\n",
    "                     directory='Tuner',\n",
    "                     project_name='Cluster_war')"
   ]
  },
  {
   "cell_type": "code",
   "execution_count": 49,
   "id": "db4c932a",
   "metadata": {
    "execution": {
     "iopub.execute_input": "2023-11-21T07:38:26.494160Z",
     "iopub.status.busy": "2023-11-21T07:38:26.493384Z",
     "iopub.status.idle": "2023-11-21T07:38:26.498255Z",
     "shell.execute_reply": "2023-11-21T07:38:26.497380Z"
    },
    "papermill": {
     "duration": 0.140139,
     "end_time": "2023-11-21T07:38:26.500268",
     "exception": false,
     "start_time": "2023-11-21T07:38:26.360129",
     "status": "completed"
    },
    "tags": []
   },
   "outputs": [],
   "source": [
    "stop_early = tf.keras.callbacks.EarlyStopping(monitor='val_loss', patience=5)"
   ]
  },
  {
   "cell_type": "code",
   "execution_count": 50,
   "id": "76c3257d",
   "metadata": {
    "execution": {
     "iopub.execute_input": "2023-11-21T07:38:26.768132Z",
     "iopub.status.busy": "2023-11-21T07:38:26.767284Z",
     "iopub.status.idle": "2023-11-21T08:33:54.395516Z",
     "shell.execute_reply": "2023-11-21T08:33:54.394590Z"
    },
    "papermill": {
     "duration": 3327.765739,
     "end_time": "2023-11-21T08:33:54.397738",
     "exception": false,
     "start_time": "2023-11-21T07:38:26.631999",
     "status": "completed"
    },
    "tags": []
   },
   "outputs": [
    {
     "name": "stdout",
     "output_type": "stream",
     "text": [
      "Trial 50 Complete [00h 00m 38s]\n",
      "val_accuracy: 0.7731450796127319\n",
      "\n",
      "Best val_accuracy So Far: 0.782337486743927\n",
      "Total elapsed time: 00h 55m 28s\n"
     ]
    }
   ],
   "source": [
    "tuner.search(X_train, y_train, epochs=50, validation_data=(X_val,y_val), callbacks=[stop_early])"
   ]
  },
  {
   "cell_type": "code",
   "execution_count": 51,
   "id": "50c61546",
   "metadata": {
    "execution": {
     "iopub.execute_input": "2023-11-21T08:33:54.670625Z",
     "iopub.status.busy": "2023-11-21T08:33:54.670251Z",
     "iopub.status.idle": "2023-11-21T08:33:54.675443Z",
     "shell.execute_reply": "2023-11-21T08:33:54.674515Z"
    },
    "papermill": {
     "duration": 0.143457,
     "end_time": "2023-11-21T08:33:54.677508",
     "exception": false,
     "start_time": "2023-11-21T08:33:54.534051",
     "status": "completed"
    },
    "tags": []
   },
   "outputs": [],
   "source": [
    "best_hps=tuner.get_best_hyperparameters(num_trials=1)[0]\n",
    "\n",
    "#print(f\"\"\"\n",
    "#The hyperparameter search is complete. The optimal number of units in the Bidirectional LSTM\n",
    "#layer is {best_hps.get('units1')} and The optimal number of units in the LSTM\n",
    "#layer is {best_hps.get('units2')} and The optimal learning rate for the optimizer\n",
    "#is {best_hps.get('learning_rate')} and The optimal number of dimesnion is {best_hps.get('dim')}.\"\"\"\n",
    "#)"
   ]
  },
  {
   "cell_type": "code",
   "execution_count": 52,
   "id": "a1a1a659",
   "metadata": {
    "execution": {
     "iopub.execute_input": "2023-11-21T08:33:54.949014Z",
     "iopub.status.busy": "2023-11-21T08:33:54.948364Z",
     "iopub.status.idle": "2023-11-21T08:33:54.952707Z",
     "shell.execute_reply": "2023-11-21T08:33:54.951780Z"
    },
    "papermill": {
     "duration": 0.140221,
     "end_time": "2023-11-21T08:33:54.954599",
     "exception": false,
     "start_time": "2023-11-21T08:33:54.814378",
     "status": "completed"
    },
    "tags": []
   },
   "outputs": [],
   "source": [
    "#model = tuner.hypermodel.build(best_hps)\n",
    "#history = model.fit(X_train, y_train, epochs=50, validation_data=(X_val,y_val))\n",
    "\n",
    "#val_acc_per_epoch = history.history['val_accuracy']\n",
    "#best_epoch = val_acc_per_epoch.index(max(val_acc_per_epoch)) + 1\n",
    "#print('Best epoch: %d' % (best_epoch,))"
   ]
  },
  {
   "cell_type": "code",
   "execution_count": 53,
   "id": "da7a9ca7",
   "metadata": {
    "execution": {
     "iopub.execute_input": "2023-11-21T08:33:55.224922Z",
     "iopub.status.busy": "2023-11-21T08:33:55.224554Z",
     "iopub.status.idle": "2023-11-21T08:34:33.697427Z",
     "shell.execute_reply": "2023-11-21T08:34:33.696451Z"
    },
    "papermill": {
     "duration": 38.610023,
     "end_time": "2023-11-21T08:34:33.699506",
     "exception": false,
     "start_time": "2023-11-21T08:33:55.089483",
     "status": "completed"
    },
    "tags": []
   },
   "outputs": [
    {
     "name": "stdout",
     "output_type": "stream",
     "text": [
      "Epoch 1/10\n",
      "143/143 [==============================] - 18s 93ms/step - loss: 0.8079 - accuracy: 0.5700 - val_loss: 0.6739 - val_accuracy: 0.5785\n",
      "Epoch 2/10\n",
      "143/143 [==============================] - 4s 28ms/step - loss: 0.7095 - accuracy: 0.6144 - val_loss: 0.6600 - val_accuracy: 0.5785\n",
      "Epoch 3/10\n",
      "143/143 [==============================] - 3s 22ms/step - loss: 0.6081 - accuracy: 0.6854 - val_loss: 0.6002 - val_accuracy: 0.5890\n",
      "Epoch 4/10\n",
      "143/143 [==============================] - 3s 18ms/step - loss: 0.4851 - accuracy: 0.7718 - val_loss: 0.4963 - val_accuracy: 0.7580\n",
      "Epoch 5/10\n",
      "143/143 [==============================] - 2s 16ms/step - loss: 0.3672 - accuracy: 0.8364 - val_loss: 0.5114 - val_accuracy: 0.7781\n",
      "Epoch 6/10\n",
      "143/143 [==============================] - 2s 13ms/step - loss: 0.3107 - accuracy: 0.8662 - val_loss: 0.5418 - val_accuracy: 0.7751\n",
      "Epoch 7/10\n",
      "143/143 [==============================] - 2s 13ms/step - loss: 0.2522 - accuracy: 0.8936 - val_loss: 0.5824 - val_accuracy: 0.7791\n",
      "Epoch 8/10\n",
      "143/143 [==============================] - 2s 16ms/step - loss: 0.2110 - accuracy: 0.9135 - val_loss: 0.6196 - val_accuracy: 0.7768\n",
      "Epoch 9/10\n",
      "143/143 [==============================] - 2s 14ms/step - loss: 0.1856 - accuracy: 0.9253 - val_loss: 0.6310 - val_accuracy: 0.7731\n"
     ]
    },
    {
     "data": {
      "text/plain": [
       "<keras.src.callbacks.History at 0x78291b6fd8d0>"
      ]
     },
     "execution_count": 53,
     "metadata": {},
     "output_type": "execute_result"
    }
   ],
   "source": [
    "hypermodel = tuner.hypermodel.build(best_hps)\n",
    "\n",
    "# Retrain the model\n",
    "hypermodel.fit(X_train, y_train, epochs=10, validation_data=(X_val,y_val), callbacks=[stop_early])"
   ]
  },
  {
   "cell_type": "code",
   "execution_count": 54,
   "id": "0d2415e9",
   "metadata": {
    "execution": {
     "iopub.execute_input": "2023-11-21T08:34:34.028756Z",
     "iopub.status.busy": "2023-11-21T08:34:34.027845Z",
     "iopub.status.idle": "2023-11-21T08:34:34.454034Z",
     "shell.execute_reply": "2023-11-21T08:34:34.453099Z"
    },
    "papermill": {
     "duration": 0.587837,
     "end_time": "2023-11-21T08:34:34.455968",
     "exception": false,
     "start_time": "2023-11-21T08:34:33.868131",
     "status": "completed"
    },
    "tags": []
   },
   "outputs": [
    {
     "name": "stdout",
     "output_type": "stream",
     "text": [
      "96/96 [==============================] - 0s 4ms/step - loss: 0.6310 - accuracy: 0.7731\n",
      "[test loss, test accuracy]: [0.6310279965400696, 0.7731450796127319]\n"
     ]
    }
   ],
   "source": [
    "eval_result = hypermodel.evaluate(X_val, y_val)\n",
    "print(\"[test loss, test accuracy]:\", eval_result)"
   ]
  },
  {
   "cell_type": "code",
   "execution_count": 55,
   "id": "e048d8d9",
   "metadata": {
    "execution": {
     "iopub.execute_input": "2023-11-21T08:34:34.779780Z",
     "iopub.status.busy": "2023-11-21T08:34:34.778846Z",
     "iopub.status.idle": "2023-11-21T08:34:35.345709Z",
     "shell.execute_reply": "2023-11-21T08:34:35.344921Z"
    },
    "papermill": {
     "duration": 0.729973,
     "end_time": "2023-11-21T08:34:35.347943",
     "exception": false,
     "start_time": "2023-11-21T08:34:34.617970",
     "status": "completed"
    },
    "tags": []
   },
   "outputs": [
    {
     "name": "stdout",
     "output_type": "stream",
     "text": [
      "96/96 [==============================] - 0s 3ms/step\n"
     ]
    }
   ],
   "source": [
    "y_pred=model.predict(X_val) ## Prediciting the validation data"
   ]
  },
  {
   "cell_type": "code",
   "execution_count": 56,
   "id": "d945414a",
   "metadata": {
    "execution": {
     "iopub.execute_input": "2023-11-21T08:34:35.667200Z",
     "iopub.status.busy": "2023-11-21T08:34:35.666325Z",
     "iopub.status.idle": "2023-11-21T08:34:35.671182Z",
     "shell.execute_reply": "2023-11-21T08:34:35.670159Z"
    },
    "papermill": {
     "duration": 0.166365,
     "end_time": "2023-11-21T08:34:35.673042",
     "exception": false,
     "start_time": "2023-11-21T08:34:35.506677",
     "status": "completed"
    },
    "tags": []
   },
   "outputs": [],
   "source": [
    "y_pred=np.where(y_pred > 0.6, 1,0) ##AUC ROC Curve"
   ]
  },
  {
   "cell_type": "code",
   "execution_count": 57,
   "id": "165f10e8",
   "metadata": {
    "execution": {
     "iopub.execute_input": "2023-11-21T08:34:35.989758Z",
     "iopub.status.busy": "2023-11-21T08:34:35.989109Z",
     "iopub.status.idle": "2023-11-21T08:34:36.240425Z",
     "shell.execute_reply": "2023-11-21T08:34:36.239472Z"
    },
    "papermill": {
     "duration": 0.411147,
     "end_time": "2023-11-21T08:34:36.242599",
     "exception": false,
     "start_time": "2023-11-21T08:34:35.831452",
     "status": "completed"
    },
    "tags": []
   },
   "outputs": [
    {
     "data": {
      "image/png": "[encoded data removed]",
      "text/plain": [
       "<Figure size 640x480 with 2 Axes>"
      ]
     },
     "metadata": {},
     "output_type": "display_data"
    }
   ],
   "source": [
    "displayConfusionMatrix(y_val, y_pred, \"Validation\")"
   ]
  },
  {
   "cell_type": "code",
   "execution_count": 58,
   "id": "a7f89ca6",
   "metadata": {
    "execution": {
     "iopub.execute_input": "2023-11-21T08:34:36.565779Z",
     "iopub.status.busy": "2023-11-21T08:34:36.565419Z",
     "iopub.status.idle": "2023-11-21T08:34:36.572979Z",
     "shell.execute_reply": "2023-11-21T08:34:36.572070Z"
    },
    "papermill": {
     "duration": 0.171501,
     "end_time": "2023-11-21T08:34:36.574774",
     "exception": false,
     "start_time": "2023-11-21T08:34:36.403273",
     "status": "completed"
    },
    "tags": []
   },
   "outputs": [
    {
     "data": {
      "text/plain": [
       "0.7718319107025607"
      ]
     },
     "execution_count": 58,
     "metadata": {},
     "output_type": "execute_result"
    }
   ],
   "source": [
    "accuracy_score(y_val,y_pred)"
   ]
  },
  {
   "cell_type": "code",
   "execution_count": 59,
   "id": "baac7de0",
   "metadata": {
    "execution": {
     "iopub.execute_input": "2023-11-21T08:34:36.906617Z",
     "iopub.status.busy": "2023-11-21T08:34:36.905752Z",
     "iopub.status.idle": "2023-11-21T08:34:37.488299Z",
     "shell.execute_reply": "2023-11-21T08:34:37.487117Z"
    },
    "papermill": {
     "duration": 0.751073,
     "end_time": "2023-11-21T08:34:37.490713",
     "exception": false,
     "start_time": "2023-11-21T08:34:36.739640",
     "status": "completed"
    },
    "tags": []
   },
   "outputs": [
    {
     "name": "stdout",
     "output_type": "stream",
     "text": [
      "143/143 [==============================] - 0s 3ms/step\n"
     ]
    }
   ],
   "source": [
    "y_pred=np.where( model.predict(X_train)> 0.6, 1,0)"
   ]
  },
  {
   "cell_type": "code",
   "execution_count": 60,
   "id": "c2566dbd",
   "metadata": {
    "execution": {
     "iopub.execute_input": "2023-11-21T08:34:37.869887Z",
     "iopub.status.busy": "2023-11-21T08:34:37.868993Z",
     "iopub.status.idle": "2023-11-21T08:34:38.111570Z",
     "shell.execute_reply": "2023-11-21T08:34:38.110647Z"
    },
    "papermill": {
     "duration": 0.406404,
     "end_time": "2023-11-21T08:34:38.113648",
     "exception": false,
     "start_time": "2023-11-21T08:34:37.707244",
     "status": "completed"
    },
    "tags": []
   },
   "outputs": [
    {
     "data": {
      "image/png": "[encoded data removed]",
      "text/plain": [
       "<Figure size 640x480 with 2 Axes>"
      ]
     },
     "metadata": {},
     "output_type": "display_data"
    }
   ],
   "source": [
    "displayConfusionMatrix(y_train, y_pred, \"Training\")"
   ]
  },
  {
   "cell_type": "code",
   "execution_count": 61,
   "id": "a83dac6d",
   "metadata": {
    "execution": {
     "iopub.execute_input": "2023-11-21T08:34:38.436749Z",
     "iopub.status.busy": "2023-11-21T08:34:38.436054Z",
     "iopub.status.idle": "2023-11-21T08:34:38.443847Z",
     "shell.execute_reply": "2023-11-21T08:34:38.442930Z"
    },
    "papermill": {
     "duration": 0.172252,
     "end_time": "2023-11-21T08:34:38.445965",
     "exception": false,
     "start_time": "2023-11-21T08:34:38.273713",
     "status": "completed"
    },
    "tags": []
   },
   "outputs": [
    {
     "data": {
      "text/plain": [
       "0.9176702430479527"
      ]
     },
     "execution_count": 61,
     "metadata": {},
     "output_type": "execute_result"
    }
   ],
   "source": [
    "accuracy_score(y_train,y_pred)"
   ]
  },
  {
   "cell_type": "markdown",
   "id": "0abd00c7",
   "metadata": {
    "papermill": {
     "duration": 0.161429,
     "end_time": "2023-11-21T08:34:38.781369",
     "exception": false,
     "start_time": "2023-11-21T08:34:38.619940",
     "status": "completed"
    },
    "tags": []
   },
   "source": [
    "#### Generate the submission file\n",
    "\n",
    "For each tweets in the test set, we predict if the given tweet is about a real disaster or not. If so, predict a 1. If not, predict a 0.\n",
    "\n",
    "The submission.csv file uses the following format: id,target"
   ]
  },
  {
   "cell_type": "code",
   "execution_count": 62,
   "id": "bcce0ee2",
   "metadata": {
    "execution": {
     "iopub.execute_input": "2023-11-21T08:34:39.111632Z",
     "iopub.status.busy": "2023-11-21T08:34:39.110841Z",
     "iopub.status.idle": "2023-11-21T08:34:39.134669Z",
     "shell.execute_reply": "2023-11-21T08:34:39.133731Z"
    },
    "papermill": {
     "duration": 0.192978,
     "end_time": "2023-11-21T08:34:39.136634",
     "exception": false,
     "start_time": "2023-11-21T08:34:38.943656",
     "status": "completed"
    },
    "tags": []
   },
   "outputs": [
    {
     "data": {
      "text/html": [
       "<div>\n",
       "<style scoped>\n",
       "    .dataframe tbody tr th:only-of-type {\n",
       "        vertical-align: middle;\n",
       "    }\n",
       "\n",
       "    .dataframe tbody tr th {\n",
       "        vertical-align: top;\n",
       "    }\n",
       "\n",
       "    .dataframe thead th {\n",
       "        text-align: right;\n",
       "    }\n",
       "</style>\n",
       "<table border=\"1\" class=\"dataframe\">\n",
       "  <thead>\n",
       "    <tr style=\"text-align: right;\">\n",
       "      <th></th>\n",
       "      <th>id</th>\n",
       "      <th>target</th>\n",
       "    </tr>\n",
       "  </thead>\n",
       "  <tbody>\n",
       "    <tr>\n",
       "      <th>0</th>\n",
       "      <td>0</td>\n",
       "      <td>0</td>\n",
       "    </tr>\n",
       "    <tr>\n",
       "      <th>1</th>\n",
       "      <td>2</td>\n",
       "      <td>0</td>\n",
       "    </tr>\n",
       "    <tr>\n",
       "      <th>2</th>\n",
       "      <td>3</td>\n",
       "      <td>0</td>\n",
       "    </tr>\n",
       "    <tr>\n",
       "      <th>3</th>\n",
       "      <td>9</td>\n",
       "      <td>0</td>\n",
       "    </tr>\n",
       "    <tr>\n",
       "      <th>4</th>\n",
       "      <td>11</td>\n",
       "      <td>0</td>\n",
       "    </tr>\n",
       "  </tbody>\n",
       "</table>\n",
       "</div>"
      ],
      "text/plain": [
       "   id  target\n",
       "0   0       0\n",
       "1   2       0\n",
       "2   3       0\n",
       "3   9       0\n",
       "4  11       0"
      ]
     },
     "execution_count": 62,
     "metadata": {},
     "output_type": "execute_result"
    }
   ],
   "source": [
    "sample_submission = pd.read_csv(\"/kaggle/input/nlp-getting-started/sample_submission.csv\")\n",
    "sample_submission.head()"
   ]
  },
  {
   "cell_type": "code",
   "execution_count": 63,
   "id": "8a478efa",
   "metadata": {
    "execution": {
     "iopub.execute_input": "2023-11-21T08:34:39.459540Z",
     "iopub.status.busy": "2023-11-21T08:34:39.459166Z",
     "iopub.status.idle": "2023-11-21T08:34:39.914808Z",
     "shell.execute_reply": "2023-11-21T08:34:39.913752Z"
    },
    "papermill": {
     "duration": 0.61855,
     "end_time": "2023-11-21T08:34:39.917270",
     "exception": false,
     "start_time": "2023-11-21T08:34:39.298720",
     "status": "completed"
    },
    "tags": []
   },
   "outputs": [
    {
     "name": "stdout",
     "output_type": "stream",
     "text": [
      "102/102 [==============================] - 0s 3ms/step\n"
     ]
    }
   ],
   "source": [
    "sample_submission[\"target\"] =np.where(model.predict(X_test)> 0.6, 1,0)"
   ]
  },
  {
   "cell_type": "code",
   "execution_count": 64,
   "id": "9d19ac40",
   "metadata": {
    "execution": {
     "iopub.execute_input": "2023-11-21T08:34:40.276301Z",
     "iopub.status.busy": "2023-11-21T08:34:40.275224Z",
     "iopub.status.idle": "2023-11-21T08:34:40.283731Z",
     "shell.execute_reply": "2023-11-21T08:34:40.282656Z"
    },
    "papermill": {
     "duration": 0.184826,
     "end_time": "2023-11-21T08:34:40.287237",
     "exception": false,
     "start_time": "2023-11-21T08:34:40.102411",
     "status": "completed"
    },
    "tags": []
   },
   "outputs": [
    {
     "data": {
      "text/plain": [
       "0       0\n",
       "1       0\n",
       "2       1\n",
       "3       0\n",
       "4       1\n",
       "       ..\n",
       "3258    0\n",
       "3259    1\n",
       "3260    1\n",
       "3261    1\n",
       "3262    0\n",
       "Name: target, Length: 3263, dtype: int64"
      ]
     },
     "execution_count": 64,
     "metadata": {},
     "output_type": "execute_result"
    }
   ],
   "source": [
    "sample_submission[\"target\"]"
   ]
  },
  {
   "cell_type": "code",
   "execution_count": 65,
   "id": "6d8dfc3f",
   "metadata": {
    "execution": {
     "iopub.execute_input": "2023-11-21T08:34:40.614344Z",
     "iopub.status.busy": "2023-11-21T08:34:40.613489Z",
     "iopub.status.idle": "2023-11-21T08:34:40.631909Z",
     "shell.execute_reply": "2023-11-21T08:34:40.630886Z"
    },
    "papermill": {
     "duration": 0.184346,
     "end_time": "2023-11-21T08:34:40.633925",
     "exception": false,
     "start_time": "2023-11-21T08:34:40.449579",
     "status": "completed"
    },
    "tags": []
   },
   "outputs": [
    {
     "data": {
      "text/html": [
       "<div>\n",
       "<style scoped>\n",
       "    .dataframe tbody tr th:only-of-type {\n",
       "        vertical-align: middle;\n",
       "    }\n",
       "\n",
       "    .dataframe tbody tr th {\n",
       "        vertical-align: top;\n",
       "    }\n",
       "\n",
       "    .dataframe thead th {\n",
       "        text-align: right;\n",
       "    }\n",
       "</style>\n",
       "<table border=\"1\" class=\"dataframe\">\n",
       "  <thead>\n",
       "    <tr style=\"text-align: right;\">\n",
       "      <th></th>\n",
       "      <th>id</th>\n",
       "      <th>target</th>\n",
       "    </tr>\n",
       "  </thead>\n",
       "  <tbody>\n",
       "    <tr>\n",
       "      <th>count</th>\n",
       "      <td>3263.000000</td>\n",
       "      <td>3263.000000</td>\n",
       "    </tr>\n",
       "    <tr>\n",
       "      <th>mean</th>\n",
       "      <td>5427.152927</td>\n",
       "      <td>0.317806</td>\n",
       "    </tr>\n",
       "    <tr>\n",
       "      <th>std</th>\n",
       "      <td>3146.427221</td>\n",
       "      <td>0.465695</td>\n",
       "    </tr>\n",
       "    <tr>\n",
       "      <th>min</th>\n",
       "      <td>0.000000</td>\n",
       "      <td>0.000000</td>\n",
       "    </tr>\n",
       "    <tr>\n",
       "      <th>25%</th>\n",
       "      <td>2683.000000</td>\n",
       "      <td>0.000000</td>\n",
       "    </tr>\n",
       "    <tr>\n",
       "      <th>50%</th>\n",
       "      <td>5500.000000</td>\n",
       "      <td>0.000000</td>\n",
       "    </tr>\n",
       "    <tr>\n",
       "      <th>75%</th>\n",
       "      <td>8176.000000</td>\n",
       "      <td>1.000000</td>\n",
       "    </tr>\n",
       "    <tr>\n",
       "      <th>max</th>\n",
       "      <td>10875.000000</td>\n",
       "      <td>1.000000</td>\n",
       "    </tr>\n",
       "  </tbody>\n",
       "</table>\n",
       "</div>"
      ],
      "text/plain": [
       "                 id       target\n",
       "count   3263.000000  3263.000000\n",
       "mean    5427.152927     0.317806\n",
       "std     3146.427221     0.465695\n",
       "min        0.000000     0.000000\n",
       "25%     2683.000000     0.000000\n",
       "50%     5500.000000     0.000000\n",
       "75%     8176.000000     1.000000\n",
       "max    10875.000000     1.000000"
      ]
     },
     "execution_count": 65,
     "metadata": {},
     "output_type": "execute_result"
    }
   ],
   "source": [
    "sample_submission.describe()"
   ]
  },
  {
   "cell_type": "code",
   "execution_count": 66,
   "id": "15166482",
   "metadata": {
    "execution": {
     "iopub.execute_input": "2023-11-21T08:34:40.961486Z",
     "iopub.status.busy": "2023-11-21T08:34:40.960598Z",
     "iopub.status.idle": "2023-11-21T08:34:40.973228Z",
     "shell.execute_reply": "2023-11-21T08:34:40.972524Z"
    },
    "papermill": {
     "duration": 0.177019,
     "end_time": "2023-11-21T08:34:40.975176",
     "exception": false,
     "start_time": "2023-11-21T08:34:40.798157",
     "status": "completed"
    },
    "tags": []
   },
   "outputs": [],
   "source": [
    "sample_submission.to_csv(\"/kaggle/working/submission.csv\", index=False)"
   ]
  },
  {
   "cell_type": "code",
   "execution_count": null,
   "id": "85b64b80",
   "metadata": {
    "papermill": {
     "duration": 0.168575,
     "end_time": "2023-11-21T08:34:41.304585",
     "exception": false,
     "start_time": "2023-11-21T08:34:41.136010",
     "status": "completed"
    },
    "tags": []
   },
   "outputs": [],
   "source": []
  }
 ],
 "metadata": {
  "kaggle": {
   "accelerator": "gpu",
   "dataSources": [
    {
     "databundleVersionId": 869809,
     "sourceId": 17777,
     "sourceType": "competition"
    }
   ],
   "dockerImageVersionId": 30588,
   "isGpuEnabled": true,
   "isInternetEnabled": true,
   "language": "python",
   "sourceType": "notebook"
  },
  "kernelspec": {
   "display_name": "Python 3",
   "language": "python",
   "name": "python3"
  },
  "language_info": {
   "codemirror_mode": {
    "name": "ipython",
    "version": 3
   },
   "file_extension": ".py",
   "mimetype": "text/x-python",
   "name": "python",
   "nbconvert_exporter": "python",
   "pygments_lexer": "ipython3",
   "version": "3.10.12"
  },
  "papermill": {
   "default_parameters": {},
   "duration": 3616.332025,
   "end_time": "2023-11-21T08:34:45.800224",
   "environment_variables": {},
   "exception": null,
   "input_path": "__notebook__.ipynb",
   "output_path": "__notebook__.ipynb",
   "parameters": {},
   "start_time": "2023-11-21T07:34:29.468199",
   "version": "2.4.0"
  }
 },
 "nbformat": 4,
 "nbformat_minor": 5
}
