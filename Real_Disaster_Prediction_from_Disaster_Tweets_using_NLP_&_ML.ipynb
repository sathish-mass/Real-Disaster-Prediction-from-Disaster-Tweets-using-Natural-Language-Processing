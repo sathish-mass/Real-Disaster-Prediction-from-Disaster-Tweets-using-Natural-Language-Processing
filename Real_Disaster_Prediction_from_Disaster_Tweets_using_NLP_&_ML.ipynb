{
  "cells": [
    {
      "cell_type": "markdown",
      "metadata": {
        "id": "HD1oIbA7KCvX"
      },
      "source": [
        "# **Real Disaster Prediction from Disaster Tweets using Natural Language Processing**\n"
      ]
    },
    {
      "cell_type": "markdown",
      "metadata": {
        "id": "iaSxrtx9KLKG"
      },
      "source": [
        "\n",
        "### Objective\n",
        "\n",
        "1. Perform data preprocessing\n",
        "2.  Predicting whether a given tweet is about a real disaster or not?\n",
        "3.  Build and test the model for test data\n",
        "4.  Evaluate the quality of the trained models"
      ]
    },
    {
      "cell_type": "markdown",
      "metadata": {
        "id": "ydAuB5AzMvgl"
      },
      "source": [
        "---------"
      ]
    },
    {
      "cell_type": "markdown",
      "metadata": {
        "id": "Idq7ogsDK1YN"
      },
      "source": [
        "### About Dataset\n",
        "\n",
        "This dataset taken from kaggle competition called [Natural Language Processing with Disaster Tweets](https://www.kaggle.com/competitions/nlp-getting-started/overview)\n",
        "\n",
        "This dataset was created by the company figure-eight and originally shared on their ‘[Data For Everyone](https://appen.com/data-for-everyone/)*’* website here.\n",
        "\n"
      ]
    },
    {
      "cell_type": "markdown",
      "metadata": {
        "id": "hQ3U2z22OW2Z"
      },
      "source": [
        "#### Importing Datasets"
      ]
    },
    {
      "cell_type": "code",
      "execution_count": null,
      "metadata": {
        "colab": {
          "base_uri": "https://localhost:8080/"
        },
        "id": "5jOmOy-JJyK7",
        "outputId": "75c7a1e5-2692-41fe-f533-088d688223ef"
      },
      "outputs": [
        {
          "output_type": "stream",
          "name": "stdout",
          "text": [
            "Collecting opendatasets\n",
            "  Downloading opendatasets-0.1.22-py3-none-any.whl (15 kB)\n",
            "Requirement already satisfied: tqdm in /usr/local/lib/python3.10/dist-packages (from opendatasets) (4.66.1)\n",
            "Requirement already satisfied: kaggle in /usr/local/lib/python3.10/dist-packages (from opendatasets) (1.5.16)\n",
            "Requirement already satisfied: click in /usr/local/lib/python3.10/dist-packages (from opendatasets) (8.1.7)\n",
            "Requirement already satisfied: six>=1.10 in /usr/local/lib/python3.10/dist-packages (from kaggle->opendatasets) (1.16.0)\n",
            "Requirement already satisfied: certifi in /usr/local/lib/python3.10/dist-packages (from kaggle->opendatasets) (2023.7.22)\n",
            "Requirement already satisfied: python-dateutil in /usr/local/lib/python3.10/dist-packages (from kaggle->opendatasets) (2.8.2)\n",
            "Requirement already satisfied: requests in /usr/local/lib/python3.10/dist-packages (from kaggle->opendatasets) (2.31.0)\n",
            "Requirement already satisfied: python-slugify in /usr/local/lib/python3.10/dist-packages (from kaggle->opendatasets) (8.0.1)\n",
            "Requirement already satisfied: urllib3 in /usr/local/lib/python3.10/dist-packages (from kaggle->opendatasets) (2.0.7)\n",
            "Requirement already satisfied: bleach in /usr/local/lib/python3.10/dist-packages (from kaggle->opendatasets) (6.1.0)\n",
            "Requirement already satisfied: webencodings in /usr/local/lib/python3.10/dist-packages (from bleach->kaggle->opendatasets) (0.5.1)\n",
            "Requirement already satisfied: text-unidecode>=1.3 in /usr/local/lib/python3.10/dist-packages (from python-slugify->kaggle->opendatasets) (1.3)\n",
            "Requirement already satisfied: charset-normalizer<4,>=2 in /usr/local/lib/python3.10/dist-packages (from requests->kaggle->opendatasets) (3.3.2)\n",
            "Requirement already satisfied: idna<4,>=2.5 in /usr/local/lib/python3.10/dist-packages (from requests->kaggle->opendatasets) (3.4)\n",
            "Installing collected packages: opendatasets\n",
            "Successfully installed opendatasets-0.1.22\n"
          ]
        }
      ],
      "source": [
        "# install the opendatasets package\n",
        "!pip install opendatasets\n",
        "\n",
        "import opendatasets as od\n",
        "\n",
        "# download the dataset (this is a Kaggle dataset)\n",
        "# during download you will be required to input your Kaggle username and password"
      ]
    },
    {
      "cell_type": "code",
      "execution_count": null,
      "metadata": {
        "colab": {
          "base_uri": "https://localhost:8080/"
        },
        "id": "7n8YEtp-KKkv",
        "outputId": "a5b7e04b-d763-4468-c10c-7db63eaed8ce"
      },
      "outputs": [
        {
          "output_type": "stream",
          "name": "stdout",
          "text": [
            "Please provide your Kaggle credentials to download this dataset. Learn more: http://bit.ly/kaggle-creds\n",
            "Your Kaggle username: aravindhmp\n",
            "Your Kaggle Key: ··········\n",
            "Downloading nlp-getting-started.zip to ./nlp-getting-started\n"
          ]
        },
        {
          "output_type": "stream",
          "name": "stderr",
          "text": [
            "100%|██████████| 593k/593k [00:00<00:00, 74.1MB/s]"
          ]
        },
        {
          "output_type": "stream",
          "name": "stdout",
          "text": [
            "\n",
            "Extracting archive ./nlp-getting-started/nlp-getting-started.zip to ./nlp-getting-started\n"
          ]
        },
        {
          "output_type": "stream",
          "name": "stderr",
          "text": [
            "\n"
          ]
        }
      ],
      "source": [
        "od.download(\"https://www.kaggle.com/competitions/nlp-getting-started/data\")"
      ]
    },
    {
      "cell_type": "markdown",
      "metadata": {
        "id": "lfkE8aA8Opa3"
      },
      "source": [
        "#### Import and install Libraries"
      ]
    },
    {
      "cell_type": "code",
      "execution_count": null,
      "metadata": {
        "colab": {
          "base_uri": "https://localhost:8080/"
        },
        "id": "CbiKTo11TChU",
        "outputId": "c5787265-2cfc-41ab-fe8b-94a2b36d4cfb"
      },
      "outputs": [
        {
          "output_type": "stream",
          "name": "stdout",
          "text": [
            "Requirement already satisfied: gensim in /usr/local/lib/python3.10/dist-packages (4.3.2)\n",
            "Requirement already satisfied: numpy>=1.18.5 in /usr/local/lib/python3.10/dist-packages (from gensim) (1.23.5)\n",
            "Requirement already satisfied: scipy>=1.7.0 in /usr/local/lib/python3.10/dist-packages (from gensim) (1.11.3)\n",
            "Requirement already satisfied: smart-open>=1.8.1 in /usr/local/lib/python3.10/dist-packages (from gensim) (6.4.0)\n",
            "Collecting catboost\n",
            "  Downloading catboost-1.2.2-cp310-cp310-manylinux2014_x86_64.whl (98.7 MB)\n",
            "\u001b[2K     \u001b[90m━━━━━━━━━━━━━━━━━━━━━━━━━━━━━━━━━━━━━━━━\u001b[0m \u001b[32m98.7/98.7 MB\u001b[0m \u001b[31m8.1 MB/s\u001b[0m eta \u001b[36m0:00:00\u001b[0m\n",
            "\u001b[?25hRequirement already satisfied: graphviz in /usr/local/lib/python3.10/dist-packages (from catboost) (0.20.1)\n",
            "Requirement already satisfied: matplotlib in /usr/local/lib/python3.10/dist-packages (from catboost) (3.7.1)\n",
            "Requirement already satisfied: numpy>=1.16.0 in /usr/local/lib/python3.10/dist-packages (from catboost) (1.23.5)\n",
            "Requirement already satisfied: pandas>=0.24 in /usr/local/lib/python3.10/dist-packages (from catboost) (1.5.3)\n",
            "Requirement already satisfied: scipy in /usr/local/lib/python3.10/dist-packages (from catboost) (1.11.3)\n",
            "Requirement already satisfied: plotly in /usr/local/lib/python3.10/dist-packages (from catboost) (5.15.0)\n",
            "Requirement already satisfied: six in /usr/local/lib/python3.10/dist-packages (from catboost) (1.16.0)\n",
            "Requirement already satisfied: python-dateutil>=2.8.1 in /usr/local/lib/python3.10/dist-packages (from pandas>=0.24->catboost) (2.8.2)\n",
            "Requirement already satisfied: pytz>=2020.1 in /usr/local/lib/python3.10/dist-packages (from pandas>=0.24->catboost) (2023.3.post1)\n",
            "Requirement already satisfied: contourpy>=1.0.1 in /usr/local/lib/python3.10/dist-packages (from matplotlib->catboost) (1.2.0)\n",
            "Requirement already satisfied: cycler>=0.10 in /usr/local/lib/python3.10/dist-packages (from matplotlib->catboost) (0.12.1)\n",
            "Requirement already satisfied: fonttools>=4.22.0 in /usr/local/lib/python3.10/dist-packages (from matplotlib->catboost) (4.44.3)\n",
            "Requirement already satisfied: kiwisolver>=1.0.1 in /usr/local/lib/python3.10/dist-packages (from matplotlib->catboost) (1.4.5)\n",
            "Requirement already satisfied: packaging>=20.0 in /usr/local/lib/python3.10/dist-packages (from matplotlib->catboost) (23.2)\n",
            "Requirement already satisfied: pillow>=6.2.0 in /usr/local/lib/python3.10/dist-packages (from matplotlib->catboost) (9.4.0)\n",
            "Requirement already satisfied: pyparsing>=2.3.1 in /usr/local/lib/python3.10/dist-packages (from matplotlib->catboost) (3.1.1)\n",
            "Requirement already satisfied: tenacity>=6.2.0 in /usr/local/lib/python3.10/dist-packages (from plotly->catboost) (8.2.3)\n",
            "Installing collected packages: catboost\n",
            "Successfully installed catboost-1.2.2\n"
          ]
        }
      ],
      "source": [
        "!pip install gensim\n",
        "!pip install catboost"
      ]
    },
    {
      "cell_type": "code",
      "execution_count": null,
      "metadata": {
        "id": "W7p2cM_QNQCO"
      },
      "outputs": [],
      "source": [
        "import gensim\n",
        "from gensim.models import Word2Vec, KeyedVectors\n",
        "from gensim.utils import simple_preprocess\n",
        "\n",
        "import re\n",
        "import nltk\n",
        "from nltk.corpus import stopwords\n",
        "from nltk.stem import WordNetLemmatizer\n",
        "from nltk import sent_tokenize\n",
        "from nltk import FreqDist\n",
        "from nltk.tokenize import word_tokenize\n",
        "\n",
        "import tensorflow as tf\n",
        "\n",
        "from tensorflow.keras.layers import Embedding, Flatten, Dense, Reshape\n",
        "from tensorflow.keras.preprocessing.sequence import pad_sequences\n",
        "from tensorflow.keras.preprocessing.text import one_hot\n",
        "from tensorflow.keras.models import Sequential\n",
        "\n",
        "from sklearn.feature_extraction.text import TfidfVectorizer\n",
        "from sklearn.decomposition import PCA\n",
        "from sklearn.preprocessing import StandardScaler\n",
        "from sklearn.model_selection import train_test_split\n",
        "from sklearn.linear_model import LogisticRegression\n",
        "from sklearn.neighbors import KNeighborsClassifier\n",
        "from sklearn.ensemble import RandomForestClassifier\n",
        "from sklearn.ensemble import AdaBoostClassifier\n",
        "from sklearn.svm import SVC\n",
        "from sklearn.ensemble import GradientBoostingClassifier\n",
        "from sklearn.tree import DecisionTreeClassifier\n",
        "\n",
        "\n",
        "from xgboost import XGBClassifier\n",
        "from catboost import CatBoostClassifier\n",
        "\n",
        "from sklearn.model_selection import KFold\n",
        "from sklearn.model_selection import GridSearchCV\n",
        "from sklearn.metrics import confusion_matrix, accuracy_score, classification_report\n",
        "\n",
        "\n",
        "import pandas as pd\n",
        "import numpy as np\n",
        "import matplotlib.pyplot as plt\n",
        "import seaborn as sns\n",
        "\n",
        "from tqdm import tqdm\n",
        "%matplotlib inline"
      ]
    },
    {
      "cell_type": "code",
      "execution_count": null,
      "metadata": {
        "colab": {
          "base_uri": "https://localhost:8080/"
        },
        "id": "Y05NmyuOR5GQ",
        "outputId": "1e823ed4-862c-4999-a716-2720b3b74778"
      },
      "outputs": [
        {
          "output_type": "stream",
          "name": "stderr",
          "text": [
            "[nltk_data] Downloading package stopwords to /root/nltk_data...\n",
            "[nltk_data]   Unzipping corpora/stopwords.zip.\n",
            "[nltk_data] Downloading package wordnet to /root/nltk_data...\n",
            "[nltk_data] Downloading package punkt to /root/nltk_data...\n",
            "[nltk_data]   Unzipping tokenizers/punkt.zip.\n"
          ]
        },
        {
          "output_type": "execute_result",
          "data": {
            "text/plain": [
              "True"
            ]
          },
          "metadata": {},
          "execution_count": 5
        }
      ],
      "source": [
        "nltk.download('stopwords')\n",
        "nltk.download('wordnet')\n",
        "nltk.download('punkt')"
      ]
    },
    {
      "cell_type": "markdown",
      "metadata": {
        "id": "Cez1C8xUVnaw"
      },
      "source": [
        "#### Load the Disaster tweets Dataset"
      ]
    },
    {
      "cell_type": "code",
      "execution_count": null,
      "metadata": {
        "colab": {
          "base_uri": "https://localhost:8080/",
          "height": 206
        },
        "id": "MISziIZpTllK",
        "outputId": "9f8dce03-184f-4965-a761-5011a35935dd"
      },
      "outputs": [
        {
          "output_type": "execute_result",
          "data": {
            "text/plain": [
              "   id keyword location                                               text  \\\n",
              "0   1     NaN      NaN  Our Deeds are the Reason of this #earthquake M...   \n",
              "1   4     NaN      NaN             Forest fire near La Ronge Sask. Canada   \n",
              "2   5     NaN      NaN  All residents asked to 'shelter in place' are ...   \n",
              "3   6     NaN      NaN  13,000 people receive #wildfires evacuation or...   \n",
              "4   7     NaN      NaN  Just got sent this photo from Ruby #Alaska as ...   \n",
              "\n",
              "   target  \n",
              "0       1  \n",
              "1       1  \n",
              "2       1  \n",
              "3       1  \n",
              "4       1  "
            ],
            "text/html": [
              "\n",
              "  <div id=\"df-4f7f2395-24fc-4f8c-ab79-1d842aba7b46\" class=\"colab-df-container\">\n",
              "    <div>\n",
              "<style scoped>\n",
              "    .dataframe tbody tr th:only-of-type {\n",
              "        vertical-align: middle;\n",
              "    }\n",
              "\n",
              "    .dataframe tbody tr th {\n",
              "        vertical-align: top;\n",
              "    }\n",
              "\n",
              "    .dataframe thead th {\n",
              "        text-align: right;\n",
              "    }\n",
              "</style>\n",
              "<table border=\"1\" class=\"dataframe\">\n",
              "  <thead>\n",
              "    <tr style=\"text-align: right;\">\n",
              "      <th></th>\n",
              "      <th>id</th>\n",
              "      <th>keyword</th>\n",
              "      <th>location</th>\n",
              "      <th>text</th>\n",
              "      <th>target</th>\n",
              "    </tr>\n",
              "  </thead>\n",
              "  <tbody>\n",
              "    <tr>\n",
              "      <th>0</th>\n",
              "      <td>1</td>\n",
              "      <td>NaN</td>\n",
              "      <td>NaN</td>\n",
              "      <td>Our Deeds are the Reason of this #earthquake M...</td>\n",
              "      <td>1</td>\n",
              "    </tr>\n",
              "    <tr>\n",
              "      <th>1</th>\n",
              "      <td>4</td>\n",
              "      <td>NaN</td>\n",
              "      <td>NaN</td>\n",
              "      <td>Forest fire near La Ronge Sask. Canada</td>\n",
              "      <td>1</td>\n",
              "    </tr>\n",
              "    <tr>\n",
              "      <th>2</th>\n",
              "      <td>5</td>\n",
              "      <td>NaN</td>\n",
              "      <td>NaN</td>\n",
              "      <td>All residents asked to 'shelter in place' are ...</td>\n",
              "      <td>1</td>\n",
              "    </tr>\n",
              "    <tr>\n",
              "      <th>3</th>\n",
              "      <td>6</td>\n",
              "      <td>NaN</td>\n",
              "      <td>NaN</td>\n",
              "      <td>13,000 people receive #wildfires evacuation or...</td>\n",
              "      <td>1</td>\n",
              "    </tr>\n",
              "    <tr>\n",
              "      <th>4</th>\n",
              "      <td>7</td>\n",
              "      <td>NaN</td>\n",
              "      <td>NaN</td>\n",
              "      <td>Just got sent this photo from Ruby #Alaska as ...</td>\n",
              "      <td>1</td>\n",
              "    </tr>\n",
              "  </tbody>\n",
              "</table>\n",
              "</div>\n",
              "    <div class=\"colab-df-buttons\">\n",
              "\n",
              "  <div class=\"colab-df-container\">\n",
              "    <button class=\"colab-df-convert\" onclick=\"convertToInteractive('df-4f7f2395-24fc-4f8c-ab79-1d842aba7b46')\"\n",
              "            title=\"Convert this dataframe to an interactive table.\"\n",
              "            style=\"display:none;\">\n",
              "\n",
              "  <svg xmlns=\"http://www.w3.org/2000/svg\" height=\"24px\" viewBox=\"0 -960 960 960\">\n",
              "    <path d=\"M120-120v-720h720v720H120Zm60-500h600v-160H180v160Zm220 220h160v-160H400v160Zm0 220h160v-160H400v160ZM180-400h160v-160H180v160Zm440 0h160v-160H620v160ZM180-180h160v-160H180v160Zm440 0h160v-160H620v160Z\"/>\n",
              "  </svg>\n",
              "    </button>\n",
              "\n",
              "  <style>\n",
              "    .colab-df-container {\n",
              "      display:flex;\n",
              "      gap: 12px;\n",
              "    }\n",
              "\n",
              "    .colab-df-convert {\n",
              "      background-color: #E8F0FE;\n",
              "      border: none;\n",
              "      border-radius: 50%;\n",
              "      cursor: pointer;\n",
              "      display: none;\n",
              "      fill: #1967D2;\n",
              "      height: 32px;\n",
              "      padding: 0 0 0 0;\n",
              "      width: 32px;\n",
              "    }\n",
              "\n",
              "    .colab-df-convert:hover {\n",
              "      background-color: #E2EBFA;\n",
              "      box-shadow: 0px 1px 2px rgba(60, 64, 67, 0.3), 0px 1px 3px 1px rgba(60, 64, 67, 0.15);\n",
              "      fill: #174EA6;\n",
              "    }\n",
              "\n",
              "    .colab-df-buttons div {\n",
              "      margin-bottom: 4px;\n",
              "    }\n",
              "\n",
              "    [theme=dark] .colab-df-convert {\n",
              "      background-color: #3B4455;\n",
              "      fill: #D2E3FC;\n",
              "    }\n",
              "\n",
              "    [theme=dark] .colab-df-convert:hover {\n",
              "      background-color: #434B5C;\n",
              "      box-shadow: 0px 1px 3px 1px rgba(0, 0, 0, 0.15);\n",
              "      filter: drop-shadow(0px 1px 2px rgba(0, 0, 0, 0.3));\n",
              "      fill: #FFFFFF;\n",
              "    }\n",
              "  </style>\n",
              "\n",
              "    <script>\n",
              "      const buttonEl =\n",
              "        document.querySelector('#df-4f7f2395-24fc-4f8c-ab79-1d842aba7b46 button.colab-df-convert');\n",
              "      buttonEl.style.display =\n",
              "        google.colab.kernel.accessAllowed ? 'block' : 'none';\n",
              "\n",
              "      async function convertToInteractive(key) {\n",
              "        const element = document.querySelector('#df-4f7f2395-24fc-4f8c-ab79-1d842aba7b46');\n",
              "        const dataTable =\n",
              "          await google.colab.kernel.invokeFunction('convertToInteractive',\n",
              "                                                    [key], {});\n",
              "        if (!dataTable) return;\n",
              "\n",
              "        const docLinkHtml = 'Like what you see? Visit the ' +\n",
              "          '<a target=\"_blank\" href=https://colab.research.google.com/notebooks/data_table.ipynb>data table notebook</a>'\n",
              "          + ' to learn more about interactive tables.';\n",
              "        element.innerHTML = '';\n",
              "        dataTable['output_type'] = 'display_data';\n",
              "        await google.colab.output.renderOutput(dataTable, element);\n",
              "        const docLink = document.createElement('div');\n",
              "        docLink.innerHTML = docLinkHtml;\n",
              "        element.appendChild(docLink);\n",
              "      }\n",
              "    </script>\n",
              "  </div>\n",
              "\n",
              "\n",
              "<div id=\"df-ae7cd8c1-56c5-4f4c-8e49-c9f45ca1ff0b\">\n",
              "  <button class=\"colab-df-quickchart\" onclick=\"quickchart('df-ae7cd8c1-56c5-4f4c-8e49-c9f45ca1ff0b')\"\n",
              "            title=\"Suggest charts\"\n",
              "            style=\"display:none;\">\n",
              "\n",
              "<svg xmlns=\"http://www.w3.org/2000/svg\" height=\"24px\"viewBox=\"0 0 24 24\"\n",
              "     width=\"24px\">\n",
              "    <g>\n",
              "        <path d=\"M19 3H5c-1.1 0-2 .9-2 2v14c0 1.1.9 2 2 2h14c1.1 0 2-.9 2-2V5c0-1.1-.9-2-2-2zM9 17H7v-7h2v7zm4 0h-2V7h2v10zm4 0h-2v-4h2v4z\"/>\n",
              "    </g>\n",
              "</svg>\n",
              "  </button>\n",
              "\n",
              "<style>\n",
              "  .colab-df-quickchart {\n",
              "      --bg-color: #E8F0FE;\n",
              "      --fill-color: #1967D2;\n",
              "      --hover-bg-color: #E2EBFA;\n",
              "      --hover-fill-color: #174EA6;\n",
              "      --disabled-fill-color: #AAA;\n",
              "      --disabled-bg-color: #DDD;\n",
              "  }\n",
              "\n",
              "  [theme=dark] .colab-df-quickchart {\n",
              "      --bg-color: #3B4455;\n",
              "      --fill-color: #D2E3FC;\n",
              "      --hover-bg-color: #434B5C;\n",
              "      --hover-fill-color: #FFFFFF;\n",
              "      --disabled-bg-color: #3B4455;\n",
              "      --disabled-fill-color: #666;\n",
              "  }\n",
              "\n",
              "  .colab-df-quickchart {\n",
              "    background-color: var(--bg-color);\n",
              "    border: none;\n",
              "    border-radius: 50%;\n",
              "    cursor: pointer;\n",
              "    display: none;\n",
              "    fill: var(--fill-color);\n",
              "    height: 32px;\n",
              "    padding: 0;\n",
              "    width: 32px;\n",
              "  }\n",
              "\n",
              "  .colab-df-quickchart:hover {\n",
              "    background-color: var(--hover-bg-color);\n",
              "    box-shadow: 0 1px 2px rgba(60, 64, 67, 0.3), 0 1px 3px 1px rgba(60, 64, 67, 0.15);\n",
              "    fill: var(--button-hover-fill-color);\n",
              "  }\n",
              "\n",
              "  .colab-df-quickchart-complete:disabled,\n",
              "  .colab-df-quickchart-complete:disabled:hover {\n",
              "    background-color: var(--disabled-bg-color);\n",
              "    fill: var(--disabled-fill-color);\n",
              "    box-shadow: none;\n",
              "  }\n",
              "\n",
              "  .colab-df-spinner {\n",
              "    border: 2px solid var(--fill-color);\n",
              "    border-color: transparent;\n",
              "    border-bottom-color: var(--fill-color);\n",
              "    animation:\n",
              "      spin 1s steps(1) infinite;\n",
              "  }\n",
              "\n",
              "  @keyframes spin {\n",
              "    0% {\n",
              "      border-color: transparent;\n",
              "      border-bottom-color: var(--fill-color);\n",
              "      border-left-color: var(--fill-color);\n",
              "    }\n",
              "    20% {\n",
              "      border-color: transparent;\n",
              "      border-left-color: var(--fill-color);\n",
              "      border-top-color: var(--fill-color);\n",
              "    }\n",
              "    30% {\n",
              "      border-color: transparent;\n",
              "      border-left-color: var(--fill-color);\n",
              "      border-top-color: var(--fill-color);\n",
              "      border-right-color: var(--fill-color);\n",
              "    }\n",
              "    40% {\n",
              "      border-color: transparent;\n",
              "      border-right-color: var(--fill-color);\n",
              "      border-top-color: var(--fill-color);\n",
              "    }\n",
              "    60% {\n",
              "      border-color: transparent;\n",
              "      border-right-color: var(--fill-color);\n",
              "    }\n",
              "    80% {\n",
              "      border-color: transparent;\n",
              "      border-right-color: var(--fill-color);\n",
              "      border-bottom-color: var(--fill-color);\n",
              "    }\n",
              "    90% {\n",
              "      border-color: transparent;\n",
              "      border-bottom-color: var(--fill-color);\n",
              "    }\n",
              "  }\n",
              "</style>\n",
              "\n",
              "  <script>\n",
              "    async function quickchart(key) {\n",
              "      const quickchartButtonEl =\n",
              "        document.querySelector('#' + key + ' button');\n",
              "      quickchartButtonEl.disabled = true;  // To prevent multiple clicks.\n",
              "      quickchartButtonEl.classList.add('colab-df-spinner');\n",
              "      try {\n",
              "        const charts = await google.colab.kernel.invokeFunction(\n",
              "            'suggestCharts', [key], {});\n",
              "      } catch (error) {\n",
              "        console.error('Error during call to suggestCharts:', error);\n",
              "      }\n",
              "      quickchartButtonEl.classList.remove('colab-df-spinner');\n",
              "      quickchartButtonEl.classList.add('colab-df-quickchart-complete');\n",
              "    }\n",
              "    (() => {\n",
              "      let quickchartButtonEl =\n",
              "        document.querySelector('#df-ae7cd8c1-56c5-4f4c-8e49-c9f45ca1ff0b button');\n",
              "      quickchartButtonEl.style.display =\n",
              "        google.colab.kernel.accessAllowed ? 'block' : 'none';\n",
              "    })();\n",
              "  </script>\n",
              "</div>\n",
              "    </div>\n",
              "  </div>\n"
            ]
          },
          "metadata": {},
          "execution_count": 6
        }
      ],
      "source": [
        "df_train=pd.read_csv('/content/nlp-getting-started/train.csv')\n",
        "df_train.head()"
      ]
    },
    {
      "cell_type": "code",
      "execution_count": null,
      "metadata": {
        "colab": {
          "base_uri": "https://localhost:8080/",
          "height": 206
        },
        "id": "5xtUlf0kVmUB",
        "outputId": "f8dad579-b922-4bd6-9607-96c2c035941e"
      },
      "outputs": [
        {
          "output_type": "execute_result",
          "data": {
            "text/plain": [
              "   id keyword location                                               text\n",
              "0   0     NaN      NaN                 Just happened a terrible car crash\n",
              "1   2     NaN      NaN  Heard about #earthquake is different cities, s...\n",
              "2   3     NaN      NaN  there is a forest fire at spot pond, geese are...\n",
              "3   9     NaN      NaN           Apocalypse lighting. #Spokane #wildfires\n",
              "4  11     NaN      NaN      Typhoon Soudelor kills 28 in China and Taiwan"
            ],
            "text/html": [
              "\n",
              "  <div id=\"df-f8b0a725-b185-4bb3-aa27-325cd9e379a6\" class=\"colab-df-container\">\n",
              "    <div>\n",
              "<style scoped>\n",
              "    .dataframe tbody tr th:only-of-type {\n",
              "        vertical-align: middle;\n",
              "    }\n",
              "\n",
              "    .dataframe tbody tr th {\n",
              "        vertical-align: top;\n",
              "    }\n",
              "\n",
              "    .dataframe thead th {\n",
              "        text-align: right;\n",
              "    }\n",
              "</style>\n",
              "<table border=\"1\" class=\"dataframe\">\n",
              "  <thead>\n",
              "    <tr style=\"text-align: right;\">\n",
              "      <th></th>\n",
              "      <th>id</th>\n",
              "      <th>keyword</th>\n",
              "      <th>location</th>\n",
              "      <th>text</th>\n",
              "    </tr>\n",
              "  </thead>\n",
              "  <tbody>\n",
              "    <tr>\n",
              "      <th>0</th>\n",
              "      <td>0</td>\n",
              "      <td>NaN</td>\n",
              "      <td>NaN</td>\n",
              "      <td>Just happened a terrible car crash</td>\n",
              "    </tr>\n",
              "    <tr>\n",
              "      <th>1</th>\n",
              "      <td>2</td>\n",
              "      <td>NaN</td>\n",
              "      <td>NaN</td>\n",
              "      <td>Heard about #earthquake is different cities, s...</td>\n",
              "    </tr>\n",
              "    <tr>\n",
              "      <th>2</th>\n",
              "      <td>3</td>\n",
              "      <td>NaN</td>\n",
              "      <td>NaN</td>\n",
              "      <td>there is a forest fire at spot pond, geese are...</td>\n",
              "    </tr>\n",
              "    <tr>\n",
              "      <th>3</th>\n",
              "      <td>9</td>\n",
              "      <td>NaN</td>\n",
              "      <td>NaN</td>\n",
              "      <td>Apocalypse lighting. #Spokane #wildfires</td>\n",
              "    </tr>\n",
              "    <tr>\n",
              "      <th>4</th>\n",
              "      <td>11</td>\n",
              "      <td>NaN</td>\n",
              "      <td>NaN</td>\n",
              "      <td>Typhoon Soudelor kills 28 in China and Taiwan</td>\n",
              "    </tr>\n",
              "  </tbody>\n",
              "</table>\n",
              "</div>\n",
              "    <div class=\"colab-df-buttons\">\n",
              "\n",
              "  <div class=\"colab-df-container\">\n",
              "    <button class=\"colab-df-convert\" onclick=\"convertToInteractive('df-f8b0a725-b185-4bb3-aa27-325cd9e379a6')\"\n",
              "            title=\"Convert this dataframe to an interactive table.\"\n",
              "            style=\"display:none;\">\n",
              "\n",
              "  <svg xmlns=\"http://www.w3.org/2000/svg\" height=\"24px\" viewBox=\"0 -960 960 960\">\n",
              "    <path d=\"M120-120v-720h720v720H120Zm60-500h600v-160H180v160Zm220 220h160v-160H400v160Zm0 220h160v-160H400v160ZM180-400h160v-160H180v160Zm440 0h160v-160H620v160ZM180-180h160v-160H180v160Zm440 0h160v-160H620v160Z\"/>\n",
              "  </svg>\n",
              "    </button>\n",
              "\n",
              "  <style>\n",
              "    .colab-df-container {\n",
              "      display:flex;\n",
              "      gap: 12px;\n",
              "    }\n",
              "\n",
              "    .colab-df-convert {\n",
              "      background-color: #E8F0FE;\n",
              "      border: none;\n",
              "      border-radius: 50%;\n",
              "      cursor: pointer;\n",
              "      display: none;\n",
              "      fill: #1967D2;\n",
              "      height: 32px;\n",
              "      padding: 0 0 0 0;\n",
              "      width: 32px;\n",
              "    }\n",
              "\n",
              "    .colab-df-convert:hover {\n",
              "      background-color: #E2EBFA;\n",
              "      box-shadow: 0px 1px 2px rgba(60, 64, 67, 0.3), 0px 1px 3px 1px rgba(60, 64, 67, 0.15);\n",
              "      fill: #174EA6;\n",
              "    }\n",
              "\n",
              "    .colab-df-buttons div {\n",
              "      margin-bottom: 4px;\n",
              "    }\n",
              "\n",
              "    [theme=dark] .colab-df-convert {\n",
              "      background-color: #3B4455;\n",
              "      fill: #D2E3FC;\n",
              "    }\n",
              "\n",
              "    [theme=dark] .colab-df-convert:hover {\n",
              "      background-color: #434B5C;\n",
              "      box-shadow: 0px 1px 3px 1px rgba(0, 0, 0, 0.15);\n",
              "      filter: drop-shadow(0px 1px 2px rgba(0, 0, 0, 0.3));\n",
              "      fill: #FFFFFF;\n",
              "    }\n",
              "  </style>\n",
              "\n",
              "    <script>\n",
              "      const buttonEl =\n",
              "        document.querySelector('#df-f8b0a725-b185-4bb3-aa27-325cd9e379a6 button.colab-df-convert');\n",
              "      buttonEl.style.display =\n",
              "        google.colab.kernel.accessAllowed ? 'block' : 'none';\n",
              "\n",
              "      async function convertToInteractive(key) {\n",
              "        const element = document.querySelector('#df-f8b0a725-b185-4bb3-aa27-325cd9e379a6');\n",
              "        const dataTable =\n",
              "          await google.colab.kernel.invokeFunction('convertToInteractive',\n",
              "                                                    [key], {});\n",
              "        if (!dataTable) return;\n",
              "\n",
              "        const docLinkHtml = 'Like what you see? Visit the ' +\n",
              "          '<a target=\"_blank\" href=https://colab.research.google.com/notebooks/data_table.ipynb>data table notebook</a>'\n",
              "          + ' to learn more about interactive tables.';\n",
              "        element.innerHTML = '';\n",
              "        dataTable['output_type'] = 'display_data';\n",
              "        await google.colab.output.renderOutput(dataTable, element);\n",
              "        const docLink = document.createElement('div');\n",
              "        docLink.innerHTML = docLinkHtml;\n",
              "        element.appendChild(docLink);\n",
              "      }\n",
              "    </script>\n",
              "  </div>\n",
              "\n",
              "\n",
              "<div id=\"df-38e9c8b3-643b-4b31-990a-70aa6b58daaa\">\n",
              "  <button class=\"colab-df-quickchart\" onclick=\"quickchart('df-38e9c8b3-643b-4b31-990a-70aa6b58daaa')\"\n",
              "            title=\"Suggest charts\"\n",
              "            style=\"display:none;\">\n",
              "\n",
              "<svg xmlns=\"http://www.w3.org/2000/svg\" height=\"24px\"viewBox=\"0 0 24 24\"\n",
              "     width=\"24px\">\n",
              "    <g>\n",
              "        <path d=\"M19 3H5c-1.1 0-2 .9-2 2v14c0 1.1.9 2 2 2h14c1.1 0 2-.9 2-2V5c0-1.1-.9-2-2-2zM9 17H7v-7h2v7zm4 0h-2V7h2v10zm4 0h-2v-4h2v4z\"/>\n",
              "    </g>\n",
              "</svg>\n",
              "  </button>\n",
              "\n",
              "<style>\n",
              "  .colab-df-quickchart {\n",
              "      --bg-color: #E8F0FE;\n",
              "      --fill-color: #1967D2;\n",
              "      --hover-bg-color: #E2EBFA;\n",
              "      --hover-fill-color: #174EA6;\n",
              "      --disabled-fill-color: #AAA;\n",
              "      --disabled-bg-color: #DDD;\n",
              "  }\n",
              "\n",
              "  [theme=dark] .colab-df-quickchart {\n",
              "      --bg-color: #3B4455;\n",
              "      --fill-color: #D2E3FC;\n",
              "      --hover-bg-color: #434B5C;\n",
              "      --hover-fill-color: #FFFFFF;\n",
              "      --disabled-bg-color: #3B4455;\n",
              "      --disabled-fill-color: #666;\n",
              "  }\n",
              "\n",
              "  .colab-df-quickchart {\n",
              "    background-color: var(--bg-color);\n",
              "    border: none;\n",
              "    border-radius: 50%;\n",
              "    cursor: pointer;\n",
              "    display: none;\n",
              "    fill: var(--fill-color);\n",
              "    height: 32px;\n",
              "    padding: 0;\n",
              "    width: 32px;\n",
              "  }\n",
              "\n",
              "  .colab-df-quickchart:hover {\n",
              "    background-color: var(--hover-bg-color);\n",
              "    box-shadow: 0 1px 2px rgba(60, 64, 67, 0.3), 0 1px 3px 1px rgba(60, 64, 67, 0.15);\n",
              "    fill: var(--button-hover-fill-color);\n",
              "  }\n",
              "\n",
              "  .colab-df-quickchart-complete:disabled,\n",
              "  .colab-df-quickchart-complete:disabled:hover {\n",
              "    background-color: var(--disabled-bg-color);\n",
              "    fill: var(--disabled-fill-color);\n",
              "    box-shadow: none;\n",
              "  }\n",
              "\n",
              "  .colab-df-spinner {\n",
              "    border: 2px solid var(--fill-color);\n",
              "    border-color: transparent;\n",
              "    border-bottom-color: var(--fill-color);\n",
              "    animation:\n",
              "      spin 1s steps(1) infinite;\n",
              "  }\n",
              "\n",
              "  @keyframes spin {\n",
              "    0% {\n",
              "      border-color: transparent;\n",
              "      border-bottom-color: var(--fill-color);\n",
              "      border-left-color: var(--fill-color);\n",
              "    }\n",
              "    20% {\n",
              "      border-color: transparent;\n",
              "      border-left-color: var(--fill-color);\n",
              "      border-top-color: var(--fill-color);\n",
              "    }\n",
              "    30% {\n",
              "      border-color: transparent;\n",
              "      border-left-color: var(--fill-color);\n",
              "      border-top-color: var(--fill-color);\n",
              "      border-right-color: var(--fill-color);\n",
              "    }\n",
              "    40% {\n",
              "      border-color: transparent;\n",
              "      border-right-color: var(--fill-color);\n",
              "      border-top-color: var(--fill-color);\n",
              "    }\n",
              "    60% {\n",
              "      border-color: transparent;\n",
              "      border-right-color: var(--fill-color);\n",
              "    }\n",
              "    80% {\n",
              "      border-color: transparent;\n",
              "      border-right-color: var(--fill-color);\n",
              "      border-bottom-color: var(--fill-color);\n",
              "    }\n",
              "    90% {\n",
              "      border-color: transparent;\n",
              "      border-bottom-color: var(--fill-color);\n",
              "    }\n",
              "  }\n",
              "</style>\n",
              "\n",
              "  <script>\n",
              "    async function quickchart(key) {\n",
              "      const quickchartButtonEl =\n",
              "        document.querySelector('#' + key + ' button');\n",
              "      quickchartButtonEl.disabled = true;  // To prevent multiple clicks.\n",
              "      quickchartButtonEl.classList.add('colab-df-spinner');\n",
              "      try {\n",
              "        const charts = await google.colab.kernel.invokeFunction(\n",
              "            'suggestCharts', [key], {});\n",
              "      } catch (error) {\n",
              "        console.error('Error during call to suggestCharts:', error);\n",
              "      }\n",
              "      quickchartButtonEl.classList.remove('colab-df-spinner');\n",
              "      quickchartButtonEl.classList.add('colab-df-quickchart-complete');\n",
              "    }\n",
              "    (() => {\n",
              "      let quickchartButtonEl =\n",
              "        document.querySelector('#df-38e9c8b3-643b-4b31-990a-70aa6b58daaa button');\n",
              "      quickchartButtonEl.style.display =\n",
              "        google.colab.kernel.accessAllowed ? 'block' : 'none';\n",
              "    })();\n",
              "  </script>\n",
              "</div>\n",
              "    </div>\n",
              "  </div>\n"
            ]
          },
          "metadata": {},
          "execution_count": 7
        }
      ],
      "source": [
        "df_test=pd.read_csv('/content/nlp-getting-started/test.csv')\n",
        "df_test.head()"
      ]
    },
    {
      "cell_type": "code",
      "execution_count": null,
      "metadata": {
        "colab": {
          "base_uri": "https://localhost:8080/"
        },
        "id": "H7q-1BlnT7zv",
        "outputId": "616c0b01-7e22-4db4-83f2-b31c12ea69d0"
      },
      "outputs": [
        {
          "output_type": "stream",
          "name": "stdout",
          "text": [
            "Training Set Shape = (7613, 5)\n",
            "Training Set Memory Usage = 0.29 MB\n",
            "Test Set Shape = (3263, 4)\n",
            "Test Set Memory Usage = 0.10 MB\n"
          ]
        }
      ],
      "source": [
        "print('Training Set Shape = {}'.format(df_train.shape))\n",
        "print('Training Set Memory Usage = {:.2f} MB'.format(df_train.memory_usage().sum() / 1024**2))\n",
        "print('Test Set Shape = {}'.format(df_test.shape))\n",
        "print('Test Set Memory Usage = {:.2f} MB'.format(df_test.memory_usage().sum() / 1024**2))"
      ]
    },
    {
      "cell_type": "markdown",
      "metadata": {
        "id": "g__pwQYDWTLM"
      },
      "source": [
        "#### Explore the dataset"
      ]
    },
    {
      "cell_type": "code",
      "execution_count": null,
      "metadata": {
        "colab": {
          "base_uri": "https://localhost:8080/"
        },
        "id": "P9sd-H7YWJJQ",
        "outputId": "18b28279-bd02-422b-d256-e5f99441af80"
      },
      "outputs": [
        {
          "output_type": "stream",
          "name": "stdout",
          "text": [
            "Train Length Stat\n",
            "count    7613.000000\n",
            "mean      101.037436\n",
            "std        33.781325\n",
            "min         7.000000\n",
            "25%        78.000000\n",
            "50%       107.000000\n",
            "75%       133.000000\n",
            "max       157.000000\n",
            "Name: length, dtype: float64\n",
            "\n",
            "Test Length Stat\n",
            "count    3263.000000\n",
            "mean      102.108183\n",
            "std        33.972158\n",
            "min         5.000000\n",
            "25%        78.000000\n",
            "50%       109.000000\n",
            "75%       134.000000\n",
            "max       151.000000\n",
            "Name: length, dtype: float64\n"
          ]
        }
      ],
      "source": [
        "df_train[\"length\"] = df_train[\"text\"].apply(lambda x : len(x))\n",
        "df_test[\"length\"] = df_test[\"text\"].apply(lambda x : len(x))\n",
        "\n",
        "print(\"Train Length Stat\")\n",
        "print(df_train[\"length\"].describe())\n",
        "print()\n",
        "\n",
        "print(\"Test Length Stat\")\n",
        "print(df_test[\"length\"].describe())"
      ]
    },
    {
      "cell_type": "code",
      "execution_count": null,
      "metadata": {
        "colab": {
          "base_uri": "https://localhost:8080/"
        },
        "id": "8WL0QN3SXCoi",
        "outputId": "5dc2a5aa-3dda-4222-a9f2-75da982c5714"
      },
      "outputs": [
        {
          "output_type": "stream",
          "name": "stdout",
          "text": [
            "<class 'pandas.core.frame.DataFrame'>\n",
            "RangeIndex: 7613 entries, 0 to 7612\n",
            "Data columns (total 6 columns):\n",
            " #   Column    Non-Null Count  Dtype \n",
            "---  ------    --------------  ----- \n",
            " 0   id        7613 non-null   int64 \n",
            " 1   keyword   7552 non-null   object\n",
            " 2   location  5080 non-null   object\n",
            " 3   text      7613 non-null   object\n",
            " 4   target    7613 non-null   int64 \n",
            " 5   length    7613 non-null   int64 \n",
            "dtypes: int64(3), object(3)\n",
            "memory usage: 357.0+ KB\n"
          ]
        }
      ],
      "source": [
        "df_train.info()"
      ]
    },
    {
      "cell_type": "markdown",
      "metadata": {
        "id": "k5-8tgbGXThr"
      },
      "source": [
        "If you want to know more information about the data, you can grab useful information [here](https://www.kaggle.com/code/alexia/kerasnlp-starter-notebook-disaster-tweets?scriptVersionId=138734217&cellId=10)\n",
        "\n",
        "Note that all the tweets are in english."
      ]
    },
    {
      "cell_type": "markdown",
      "metadata": {
        "id": "lFBXRWPQXkMs"
      },
      "source": [
        "#### Preprocess the data"
      ]
    },
    {
      "cell_type": "code",
      "execution_count": null,
      "metadata": {
        "colab": {
          "base_uri": "https://localhost:8080/"
        },
        "id": "inHjwqd8YBBk",
        "outputId": "050e829e-7112-49f7-9fd1-068e0cf8e0a5"
      },
      "outputs": [
        {
          "output_type": "execute_result",
          "data": {
            "text/plain": [
              "7613"
            ]
          },
          "metadata": {},
          "execution_count": 11
        }
      ],
      "source": [
        "len(df_train['id'])"
      ]
    },
    {
      "cell_type": "code",
      "execution_count": null,
      "metadata": {
        "id": "X2RWj17EamJF"
      },
      "outputs": [],
      "source": [
        "lemmatizer=WordNetLemmatizer() # Intitialize lemmstizer"
      ]
    },
    {
      "cell_type": "code",
      "execution_count": null,
      "metadata": {
        "id": "-jMzatHaYfYQ"
      },
      "outputs": [],
      "source": [
        "def preprocess(df):\n",
        "  corpus=[]\n",
        "  words=[]\n",
        "  for i in range(0, len(df)):                           ## Text cleaning and lemmatizing the tweets\n",
        "    review = re.sub('[^a-zA-Z0-9]', ' ', df['text'][i])\n",
        "    review = review.lower()\n",
        "    review = review.split()\n",
        "\n",
        "    review = [lemmatizer.lemmatize(word) for word in review if not word in stopwords.words('english')]\n",
        "    review = ' '.join(review)\n",
        "    corpus.append(review)\n",
        "\n",
        "  for sent in corpus:                                   ## Tokenize the each words of the tweets\n",
        "    sent_token=sent_tokenize(sent)\n",
        "    for sent in sent_token:\n",
        "      words.append(simple_preprocess(sent))\n",
        "\n",
        "  return corpus, words"
      ]
    },
    {
      "cell_type": "code",
      "execution_count": null,
      "metadata": {
        "id": "jlEJ0AphbbfR"
      },
      "outputs": [],
      "source": [
        "corpus_train,words_train=preprocess(df_train)\n",
        "corpus_test,words_test=preprocess(df_test)"
      ]
    },
    {
      "cell_type": "code",
      "execution_count": null,
      "metadata": {
        "colab": {
          "base_uri": "https://localhost:8080/",
          "height": 36
        },
        "id": "K85y1F2uwPjo",
        "outputId": "f991d891-13ef-4fa5-c099-1ed45854df3c"
      },
      "outputs": [
        {
          "output_type": "execute_result",
          "data": {
            "text/plain": [
              "'forest fire near la ronge sask canada'"
            ],
            "application/vnd.google.colaboratory.intrinsic+json": {
              "type": "string"
            }
          },
          "metadata": {},
          "execution_count": 15
        }
      ],
      "source": [
        "corpus_train[1]"
      ]
    },
    {
      "cell_type": "code",
      "execution_count": null,
      "metadata": {
        "colab": {
          "base_uri": "https://localhost:8080/"
        },
        "id": "xblwteskds8M",
        "outputId": "367de24d-a593-4369-82a1-a4398b3dff96"
      },
      "outputs": [
        {
          "output_type": "stream",
          "name": "stdout",
          "text": [
            "[('co', 4745), ('http', 4721), ('fire', 356), ('like', 350), ('amp', 344), ('u', 261), ('get', 255), ('new', 228), ('via', 220), ('2', 217), ('one', 209), ('people', 201), ('news', 200), ('year', 177), ('video', 175), ('time', 166), ('disaster', 161), ('emergency', 159), ('body', 155), ('day', 147)]\n"
          ]
        },
        {
          "output_type": "execute_result",
          "data": {
            "text/plain": [
              "20187"
            ]
          },
          "metadata": {},
          "execution_count": 16
        }
      ],
      "source": [
        "## Finding the vocabulary size\n",
        "lst = [word for sentence in corpus_train for word in word_tokenize(sentence)]\n",
        "freq_dist = FreqDist(lst)\n",
        "print(freq_dist.most_common(20))\n",
        "rare_threshold = 10000\n",
        "rare_words_train = [word for word, freq in freq_dist.items() if freq < rare_threshold]\n",
        "len(rare_words_train)"
      ]
    },
    {
      "cell_type": "code",
      "execution_count": null,
      "metadata": {
        "colab": {
          "base_uri": "https://localhost:8080/"
        },
        "id": "eA-kMcWDdw_H",
        "outputId": "39c41d9d-c55c-4330-b455-23e714fb29f0"
      },
      "outputs": [
        {
          "output_type": "stream",
          "name": "stdout",
          "text": [
            "[('co', 2069), ('http', 2059), ('fire', 167), ('amp', 166), ('like', 146), ('get', 126), ('u', 106), ('via', 105), ('new', 103), ('2', 96), ('news', 93), ('one', 90), ('people', 85), ('would', 77), ('year', 76), ('emergency', 73), ('3', 69), ('attack', 69), ('time', 66), ('disaster', 65)]\n"
          ]
        },
        {
          "output_type": "execute_result",
          "data": {
            "text/plain": [
              "11431"
            ]
          },
          "metadata": {},
          "execution_count": 17
        }
      ],
      "source": [
        "lst = [word for sentence in corpus_test for word in word_tokenize(sentence)]\n",
        "freq_dist = FreqDist(lst)\n",
        "print(freq_dist.most_common(20))\n",
        "rare_threshold = 10000\n",
        "rare_words_test = [word for word, freq in freq_dist.items() if freq < rare_threshold]\n",
        "len(rare_words_test)\n"
      ]
    },
    {
      "cell_type": "code",
      "execution_count": null,
      "metadata": {
        "colab": {
          "base_uri": "https://localhost:8080/"
        },
        "id": "j5lLov_Ud1qy",
        "outputId": "d43790f6-9b43-410c-8d24-5cb83c33c3bf"
      },
      "outputs": [
        {
          "output_type": "execute_result",
          "data": {
            "text/plain": [
              "17334"
            ]
          },
          "metadata": {},
          "execution_count": 18
        }
      ],
      "source": [
        "## Total size of the vocabulary\n",
        "len(rare_words_test)+len([word for word in rare_words_test if word not in rare_words_train])"
      ]
    },
    {
      "cell_type": "code",
      "execution_count": null,
      "metadata": {
        "colab": {
          "base_uri": "https://localhost:8080/"
        },
        "id": "_o93tHL9d4ik",
        "outputId": "f420ba09-f197-418b-8083-63d685d7fd19"
      },
      "outputs": [
        {
          "output_type": "execute_result",
          "data": {
            "text/plain": [
              "[137,\n",
              " 'bomb crash loot riot emergency pipe bomb nuclear chemical spill gas ricin leak violence drug cartel cocaine marijuana heroine kidnap bust']"
            ]
          },
          "metadata": {},
          "execution_count": 19
        }
      ],
      "source": [
        "## Finding the sentence length\n",
        "\n",
        "max([[i,j] for i,j in zip(list(map(len,corpus_train)),corpus_train)])"
      ]
    },
    {
      "cell_type": "code",
      "execution_count": null,
      "metadata": {
        "colab": {
          "base_uri": "https://localhost:8080/"
        },
        "id": "vGwcijfud7mA",
        "outputId": "65fd009c-24f6-4ca3-c7e1-998c65174b3a"
      },
      "outputs": [
        {
          "output_type": "execute_result",
          "data": {
            "text/plain": [
              "[132,\n",
              " 'harvardu 90blks amp 8whts colluded 2 take wht f usagov auth hostage amp 2 make look blk w bioterrorism amp use lgl org idis id still']"
            ]
          },
          "metadata": {},
          "execution_count": 20
        }
      ],
      "source": [
        "max([[i,j] for i,j in zip(list(map(len,corpus_test)),corpus_test)])"
      ]
    },
    {
      "cell_type": "code",
      "execution_count": null,
      "metadata": {
        "id": "gufJnDkud-as"
      },
      "outputs": [],
      "source": [
        "## Defining the Vocabulary size, sentence lenth, and Dimension for vector\n",
        "voc_size=18000\n",
        "sent_length=30\n",
        "embedding_vector_features=512"
      ]
    },
    {
      "cell_type": "code",
      "execution_count": null,
      "metadata": {
        "colab": {
          "base_uri": "https://localhost:8080/"
        },
        "id": "3fMPq0AfeBGf",
        "outputId": "29e540ad-2cc0-406d-a2ad-0b7e319493c9"
      },
      "outputs": [
        {
          "output_type": "execute_result",
          "data": {
            "text/plain": [
              "[5910, 2348, 11997, 16631, 11941, 12149, 12691]"
            ]
          },
          "metadata": {},
          "execution_count": 66
        }
      ],
      "source": [
        "onehot_repr_train=[one_hot(words,voc_size) for words in corpus_train]\n",
        "onehot_repr_train[1]"
      ]
    },
    {
      "cell_type": "code",
      "execution_count": null,
      "metadata": {
        "colab": {
          "base_uri": "https://localhost:8080/",
          "height": 36
        },
        "id": "aoVuMeu4eIdw",
        "outputId": "809e5db1-085e-4401-8c45-18aef9b21e51"
      },
      "outputs": [
        {
          "output_type": "execute_result",
          "data": {
            "text/plain": [
              "'forest fire near la ronge sask canada'"
            ],
            "application/vnd.google.colaboratory.intrinsic+json": {
              "type": "string"
            }
          },
          "metadata": {},
          "execution_count": 67
        }
      ],
      "source": [
        "corpus_train[1]"
      ]
    },
    {
      "cell_type": "code",
      "execution_count": null,
      "metadata": {
        "colab": {
          "base_uri": "https://localhost:8080/"
        },
        "id": "Hj6F7i8ieEZp",
        "outputId": "e18a48e7-8ac3-4cb0-c795-fbc487a485ea"
      },
      "outputs": [
        {
          "output_type": "execute_result",
          "data": {
            "text/plain": [
              "[13041, 9572, 4390, 7315, 3632, 6067, 14549]"
            ]
          },
          "metadata": {},
          "execution_count": 68
        }
      ],
      "source": [
        "onehot_repr_test=[one_hot(words,voc_size) for words in corpus_test]\n",
        "onehot_repr_test[1]"
      ]
    },
    {
      "cell_type": "code",
      "execution_count": null,
      "metadata": {
        "colab": {
          "base_uri": "https://localhost:8080/",
          "height": 36
        },
        "id": "Y3wzdUG8eLOV",
        "outputId": "4a783742-d3c7-40ee-ce13-3f4b1ff27c3d"
      },
      "outputs": [
        {
          "output_type": "execute_result",
          "data": {
            "text/plain": [
              "'heard earthquake different city stay safe everyone'"
            ],
            "application/vnd.google.colaboratory.intrinsic+json": {
              "type": "string"
            }
          },
          "metadata": {},
          "execution_count": 69
        }
      ],
      "source": [
        "corpus_test[1]"
      ]
    },
    {
      "cell_type": "code",
      "execution_count": null,
      "metadata": {
        "colab": {
          "base_uri": "https://localhost:8080/"
        },
        "id": "b0SgWTMmeOuN",
        "outputId": "d7329c73-b8f1-46f6-c0f8-f9483978822e"
      },
      "outputs": [
        {
          "output_type": "execute_result",
          "data": {
            "text/plain": [
              "array([    0,     0,     0,     0,     0,     0,     0,     0,     0,\n",
              "           0,     0,     0,     0,     0,     0,     0,     0,     0,\n",
              "           0,     0,     0,     0,     0,  5910,  2348, 11997, 16631,\n",
              "       11941, 12149, 12691], dtype=int32)"
            ]
          },
          "metadata": {},
          "execution_count": 70
        }
      ],
      "source": [
        "embedded_doc_train=pad_sequences(onehot_repr_train,padding='pre',maxlen=sent_length)\n",
        "embedded_doc_train[1]"
      ]
    },
    {
      "cell_type": "code",
      "execution_count": null,
      "metadata": {
        "id": "ZQeeDnTceQ8U"
      },
      "outputs": [],
      "source": [
        "embedded_doc_test=pad_sequences(onehot_repr_test,padding='pre',maxlen=sent_length)"
      ]
    },
    {
      "cell_type": "code",
      "execution_count": null,
      "metadata": {
        "id": "tjPEYErjsVQy"
      },
      "outputs": [],
      "source": [
        "X=np.array(embedded_doc_train)\n",
        "Y=np.array(df_train['target'])\n",
        "\n",
        "X_train, X_val, y_train, y_val = train_test_split(X, Y, test_size=0.40, random_state=0)\n",
        "\n",
        "X_test=np.array(embedded_doc_test)"
      ]
    },
    {
      "cell_type": "code",
      "execution_count": null,
      "metadata": {
        "colab": {
          "base_uri": "https://localhost:8080/"
        },
        "id": "8UwM1rQPgX6F",
        "outputId": "5505905b-21f4-4470-c198-c3098a2e0232"
      },
      "outputs": [
        {
          "output_type": "execute_result",
          "data": {
            "text/plain": [
              "(4567, 30)"
            ]
          },
          "metadata": {},
          "execution_count": 84
        }
      ],
      "source": [
        "X_train.shape"
      ]
    },
    {
      "cell_type": "code",
      "execution_count": null,
      "metadata": {
        "colab": {
          "base_uri": "https://localhost:8080/"
        },
        "id": "cRmy80WB8n82",
        "outputId": "1e59de39-7159-4fa0-e986-cce0005f43f5"
      },
      "outputs": [
        {
          "output_type": "execute_result",
          "data": {
            "text/plain": [
              "(3263, 30)"
            ]
          },
          "metadata": {},
          "execution_count": 85
        }
      ],
      "source": [
        "X_test.shape"
      ]
    },
    {
      "cell_type": "code",
      "execution_count": null,
      "metadata": {
        "id": "joAqrPVkehgc"
      },
      "outputs": [],
      "source": [
        "## Word EMbedding Model Build\n",
        "model=Sequential()\n",
        "model.add(Embedding(voc_size,embedding_vector_features,input_length=sent_length))\n",
        "model.add(Reshape((sent_length * embedding_vector_features,)))\n",
        "model.compile('adam','mse')"
      ]
    },
    {
      "cell_type": "code",
      "execution_count": null,
      "metadata": {
        "colab": {
          "base_uri": "https://localhost:8080/"
        },
        "id": "WVNXcqQReyZ4",
        "outputId": "c50dcc34-6c4a-44ae-c71e-14e478b4b799"
      },
      "outputs": [
        {
          "output_type": "stream",
          "name": "stdout",
          "text": [
            "Model: \"sequential_4\"\n",
            "_________________________________________________________________\n",
            " Layer (type)                Output Shape              Param #   \n",
            "=================================================================\n",
            " embedding_4 (Embedding)     (None, 30, 512)           9216000   \n",
            "                                                                 \n",
            " reshape_4 (Reshape)         (None, 15360)             0         \n",
            "                                                                 \n",
            "=================================================================\n",
            "Total params: 9216000 (35.16 MB)\n",
            "Trainable params: 9216000 (35.16 MB)\n",
            "Non-trainable params: 0 (0.00 Byte)\n",
            "_________________________________________________________________\n"
          ]
        }
      ],
      "source": [
        "model.summary()"
      ]
    },
    {
      "cell_type": "code",
      "execution_count": null,
      "metadata": {
        "colab": {
          "base_uri": "https://localhost:8080/"
        },
        "id": "IonRQqK4e7U-",
        "outputId": "624fe97d-e3b6-4cf0-f114-671f7be68bb3"
      },
      "outputs": [
        {
          "output_type": "stream",
          "name": "stdout",
          "text": [
            "143/143 [==============================] - 0s 2ms/step\n"
          ]
        },
        {
          "output_type": "execute_result",
          "data": {
            "text/plain": [
              "(4567, 15360)"
            ]
          },
          "metadata": {},
          "execution_count": 98
        }
      ],
      "source": [
        "X_train=model.predict(X_train)\n",
        "X_train.shape"
      ]
    },
    {
      "cell_type": "code",
      "execution_count": null,
      "metadata": {
        "colab": {
          "base_uri": "https://localhost:8080/"
        },
        "id": "N_fiMhuwklFP",
        "outputId": "34a67c98-e418-4b3d-c921-9358b7c97160"
      },
      "outputs": [
        {
          "output_type": "execute_result",
          "data": {
            "text/plain": [
              "array([ 0.04543694, -0.04390713,  0.03865236, ...,  0.03854943,\n",
              "        0.03323985,  0.0237692 ], dtype=float32)"
            ]
          },
          "metadata": {},
          "execution_count": 99
        }
      ],
      "source": [
        "X_train[0]"
      ]
    },
    {
      "cell_type": "code",
      "execution_count": null,
      "metadata": {
        "colab": {
          "base_uri": "https://localhost:8080/"
        },
        "id": "TOm_kZUrg8Iv",
        "outputId": "42054042-e6f8-48c5-d17e-59a6c257f712"
      },
      "outputs": [
        {
          "output_type": "stream",
          "name": "stdout",
          "text": [
            "96/96 [==============================] - 0s 1ms/step\n"
          ]
        },
        {
          "output_type": "execute_result",
          "data": {
            "text/plain": [
              "(3046, 15360)"
            ]
          },
          "metadata": {},
          "execution_count": 100
        }
      ],
      "source": [
        "X_val=model.predict(X_val)\n",
        "X_val.shape"
      ]
    },
    {
      "cell_type": "code",
      "execution_count": null,
      "metadata": {
        "colab": {
          "base_uri": "https://localhost:8080/"
        },
        "id": "NeK4toqclnRi",
        "outputId": "335077ca-29e3-41c5-c0f3-1dcf99978ec1"
      },
      "outputs": [
        {
          "output_type": "stream",
          "name": "stdout",
          "text": [
            "102/102 [==============================] - 0s 1ms/step\n"
          ]
        },
        {
          "output_type": "execute_result",
          "data": {
            "text/plain": [
              "(3263, 15360)"
            ]
          },
          "metadata": {},
          "execution_count": 101
        }
      ],
      "source": [
        "X_test=model.predict(X_test)\n",
        "X_test.shape"
      ]
    },
    {
      "cell_type": "code",
      "execution_count": null,
      "metadata": {
        "id": "nbrvf-XTgc9k"
      },
      "outputs": [],
      "source": [
        "## Reducing dimensionality and Staandartization the data\n",
        "\n",
        "scaler=StandardScaler()\n",
        "pca=PCA(n_components=100)"
      ]
    },
    {
      "cell_type": "code",
      "execution_count": null,
      "metadata": {
        "id": "N2mHrkyMg3ep"
      },
      "outputs": [],
      "source": [
        "X_train=scaler.fit_transform(X_train)\n",
        "X_val=scaler.transform(X_val)\n",
        "X_test=scaler.fit_transform(X_test)"
      ]
    },
    {
      "cell_type": "code",
      "execution_count": null,
      "metadata": {
        "id": "smh_r1sXhPiX"
      },
      "outputs": [],
      "source": [
        "X_train=pca.fit_transform(X_train)\n",
        "X_val=pca.transform(X_val)\n",
        "X_test=pca.fit_transform(X_test)"
      ]
    },
    {
      "cell_type": "code",
      "execution_count": null,
      "metadata": {
        "colab": {
          "base_uri": "https://localhost:8080/"
        },
        "id": "caKmk_CKmDAf",
        "outputId": "ecc82658-c2b4-4d33-b0ce-fb319f998292"
      },
      "outputs": [
        {
          "output_type": "execute_result",
          "data": {
            "text/plain": [
              "((4567, 300), (3263, 300))"
            ]
          },
          "metadata": {},
          "execution_count": 64
        }
      ],
      "source": [
        "X_train.shape,X_test.shape"
      ]
    },
    {
      "cell_type": "markdown",
      "metadata": {
        "id": "SBGcb1v0hfZp"
      },
      "source": [
        "#### Bulding,Training and Evaluating the Model"
      ]
    },
    {
      "cell_type": "code",
      "execution_count": null,
      "metadata": {
        "id": "SLO5lHJ2hasL"
      },
      "outputs": [],
      "source": [
        "models ={\n",
        "    'Logistic Regression': LogisticRegression(),\n",
        "    'KNN': KNeighborsClassifier(),\n",
        "    'Random Forest' : RandomForestClassifier(),\n",
        "    'AdaBoost' : AdaBoostClassifier(),\n",
        "    'SVM' : SVC(),\n",
        "    'Gradient Boosting' : GradientBoostingClassifier(),\n",
        "    'Decision Tree' : DecisionTreeClassifier(),\n",
        "    'XGBoost' : XGBClassifier(),\n",
        "    'CatBoost' : CatBoostClassifier()\n",
        "}"
      ]
    },
    {
      "cell_type": "code",
      "execution_count": null,
      "metadata": {
        "id": "Uu797vm_heKY"
      },
      "outputs": [],
      "source": [
        "parameter = {\n",
        "    'Logistic Regression': {\n",
        "        'C':10.0**np.arange(-2,3),\n",
        "        'penalty':['l1', 'l2', 'elasticnet', None],\n",
        "        'solver':['lbfgs', 'liblinear', 'newton-cg', 'newton-cholesky', 'sag', 'saga'],\n",
        "        'max_iter':np.arange(1000,6000,1000)\n",
        "        },\n",
        "    'KNN': {\n",
        "            'n_neighbors':[2,3,4,5,6,7,8,9,10,11],\n",
        "             'algorithm':['auto', 'ball_tree', 'kd_tree', 'brute'],\n",
        "                },\n",
        "    'Random Forest' : {\n",
        "                    'criterion':['gini', 'entropy', 'log_loss'],\n",
        "                    'max_features':['sqrt','log2',None],\n",
        "                    'n_estimators': [8,16,32,64,128,256]\n",
        "\n",
        "                },\n",
        "    'AdaBoost' :{\n",
        "                'learning_rate':[.1,.01,0.5,.001],\n",
        "                'algorithm': ['SAMME','SAMME.R'],\n",
        "                'n_estimators': [8,16,32,64,128,256]\n",
        "                },\n",
        "    'SVM' : {\n",
        "        'kernel':['linear', 'poly', 'rbf', 'sigmoid']\n",
        "    },\n",
        "    'Gradient Boosting' : {\n",
        "                          'loss': ['log_loss', 'exponential'],\n",
        "                          'learning_rate':[.1,.01,.05,.001],\n",
        "                          'criterion':['squared_error', 'friedman_mse'],\n",
        "                          'max_features':['sqrt','log2'],\n",
        "                          'n_estimators': [8,16,32,64,128,256]\n",
        "                },\n",
        "    'Decision Tree' : {\n",
        "                  'criterion':['gini', 'entropy', 'log_loss'],\n",
        "                  'splitter':['best','random'],\n",
        "                  'max_features':['auto','sqrt','log2'],\n",
        "                },\n",
        "    'XGBoost' : {\n",
        "                    'learning_rate':[.1,.01,.05,.001],\n",
        "                    'n_estimators': [8,16,32,64,128,256]\n",
        "                },\n",
        "    'CatBoost' : {\n",
        "                    'depth': [6,8,10],\n",
        "                    'learning_rate': [0.01, 0.05, 0.1],\n",
        "                    'iterations': [30, 50, 100]\n",
        "                }\n",
        "}"
      ]
    },
    {
      "cell_type": "code",
      "execution_count": null,
      "metadata": {
        "id": "8cadKvAFh6dV"
      },
      "outputs": [],
      "source": [
        "def evaluate_models(X_train, y_train,X_test,y_test,models,param):         ## Hyperparameter tuning for the model\n",
        "  report = {}\n",
        "\n",
        "  for i in range(len(list(models))-1):\n",
        "    model = list(models.values())[i]\n",
        "    para=param[list(models.keys())[i]]\n",
        "    print(model,para)\n",
        "\n",
        "    cv=KFold(n_splits=5, random_state=None, shuffle=False)\n",
        "    gs = GridSearchCV(model,para,cv=cv)\n",
        "    gs.fit(X_train,y_train)\n",
        "\n",
        "    model.set_params(**gs.best_params_)\n",
        "    model.fit(X_train,y_train)\n",
        "\n",
        "    y_train_pred = model.predict(X_train)\n",
        "\n",
        "    y_test_pred = model.predict(X_test)\n",
        "\n",
        "    train_model_score = accuracy_score(y_train, y_train_pred)\n",
        "\n",
        "    test_model_score = accuracy_score(y_test, y_test_pred)\n",
        "    print('Train Accuracy:',train_model_score)\n",
        "    print('Test Accuracy:',test_model_score)\n",
        "\n",
        "    report[list(models.keys())[i]] = test_model_score\n",
        "\n",
        "  return report"
      ]
    },
    {
      "cell_type": "code",
      "execution_count": null,
      "metadata": {
        "id": "dwVYhvyU1BNJ"
      },
      "outputs": [],
      "source": [
        "def evaluate_models(X_train, y_train,X_test,y_test,models,param):         ## Hyperparameter tuning for the model\n",
        "  report = {}\n",
        "\n",
        "  for i in range(len(list(models))-1):\n",
        "    model = list(models.values())[i]\n",
        "    #para=param[list(models.keys())[i]]\n",
        "    print(model)\n",
        "\n",
        "    model.fit(X_train,y_train)\n",
        "\n",
        "    y_train_pred = model.predict(X_train)\n",
        "\n",
        "    y_test_pred = model.predict(X_test)\n",
        "\n",
        "    train_model_score = accuracy_score(y_train, y_train_pred)\n",
        "\n",
        "    test_model_score = accuracy_score(y_test, y_test_pred)\n",
        "    print('Train Accuracy:',train_model_score)\n",
        "    print('Test Accuracy:',test_model_score)\n",
        "\n",
        "    report[list(models.keys())[i]] = test_model_score\n",
        "\n",
        "  return report"
      ]
    },
    {
      "cell_type": "code",
      "execution_count": null,
      "metadata": {
        "id": "aUjsZENp7awc"
      },
      "outputs": [],
      "source": [
        "import warnings\n",
        "\n",
        "# Ignore all warnings\n",
        "warnings.filterwarnings(\"ignore\")"
      ]
    },
    {
      "cell_type": "code",
      "execution_count": null,
      "metadata": {
        "colab": {
          "base_uri": "https://localhost:8080/"
        },
        "id": "0rnRHEZ8iRC6",
        "outputId": "245ffcb2-1403-420c-dd6c-fd552607f1de"
      },
      "outputs": [
        {
          "output_type": "stream",
          "name": "stdout",
          "text": [
            "LogisticRegression()\n",
            "Train Accuracy: 0.9402233413619444\n",
            "Test Accuracy: 0.6943532501641497\n",
            "KNeighborsClassifier()\n",
            "Train Accuracy: 0.7845412743595358\n",
            "Test Accuracy: 0.6671043992120814\n",
            "RandomForestClassifier()\n",
            "Train Accuracy: 0.9975914166849135\n",
            "Test Accuracy: 0.6808929743926461\n",
            "AdaBoostClassifier()\n",
            "Train Accuracy: 0.7359316838186993\n",
            "Test Accuracy: 0.6483913328956008\n",
            "SVC()\n",
            "Train Accuracy: 0.8679658419093497\n",
            "Test Accuracy: 0.6996060407091267\n",
            "GradientBoostingClassifier()\n",
            "Train Accuracy: 0.8887672432669148\n",
            "Test Accuracy: 0.6733420879842417\n",
            "DecisionTreeClassifier()\n",
            "Train Accuracy: 0.9975914166849135\n",
            "Test Accuracy: 0.6037426132632961\n",
            "XGBClassifier(base_score=None, booster=None, callbacks=None,\n",
            "              colsample_bylevel=None, colsample_bynode=None,\n",
            "              colsample_bytree=None, device=None, early_stopping_rounds=None,\n",
            "              enable_categorical=False, eval_metric=None, feature_types=None,\n",
            "              gamma=None, grow_policy=None, importance_type=None,\n",
            "              interaction_constraints=None, learning_rate=None, max_bin=None,\n",
            "              max_cat_threshold=None, max_cat_to_onehot=None,\n",
            "              max_delta_step=None, max_depth=None, max_leaves=None,\n",
            "              min_child_weight=None, missing=nan, monotone_constraints=None,\n",
            "              multi_strategy=None, n_estimators=None, n_jobs=None,\n",
            "              num_parallel_tree=None, random_state=None, ...)\n",
            "Train Accuracy: 0.9975914166849135\n",
            "Test Accuracy: 0.685817465528562\n"
          ]
        }
      ],
      "source": [
        "model_report:dict=evaluate_models(X_train=X_train,y_train=y_train,X_test=X_val,y_test=y_val,\n",
        "                                             models=models,param=parameter)"
      ]
    },
    {
      "cell_type": "code",
      "execution_count": null,
      "metadata": {
        "colab": {
          "base_uri": "https://localhost:8080/"
        },
        "id": "P80DSkBZiAeo",
        "outputId": "0482c912-d492-4bfb-c7cf-f402b3a26e17"
      },
      "outputs": [
        {
          "name": "stdout",
          "output_type": "stream",
          "text": [
            "SVM\n"
          ]
        }
      ],
      "source": [
        "best_model_score = max(sorted(model_report.values()))\n",
        "\n",
        "## To get best model name from dict\n",
        "\n",
        "best_model_name = list(model_report.keys())[\n",
        "  list(model_report.values()).index(best_model_score)\n",
        "]\n",
        "\n",
        "best_model = models[best_model_name]\n",
        "\n",
        "print(best_model_name)"
      ]
    },
    {
      "cell_type": "code",
      "execution_count": null,
      "metadata": {
        "id": "s3Ud_Q2ZiE0t"
      },
      "outputs": [],
      "source": [
        "y_pred=best_model.predict(X_val) ## Prediciting the validation data"
      ]
    },
    {
      "cell_type": "code",
      "execution_count": null,
      "metadata": {
        "colab": {
          "base_uri": "https://localhost:8080/"
        },
        "id": "vKlFtHQ4iJMf",
        "outputId": "d061667d-52cf-47c1-fab1-21f7ee609d2f"
      },
      "outputs": [
        {
          "data": {
            "text/plain": [
              "array([[818,  68],\n",
              "       [215, 422]])"
            ]
          },
          "execution_count": 27,
          "metadata": {},
          "output_type": "execute_result"
        }
      ],
      "source": [
        "confusion_matrix(y_val,y_pred)  ## Confusion matrix for validation data"
      ]
    },
    {
      "cell_type": "code",
      "execution_count": null,
      "metadata": {
        "colab": {
          "base_uri": "https://localhost:8080/"
        },
        "id": "lfWOHW4sjBC4",
        "outputId": "3ae67abe-63f2-4cf9-b99a-56ab6583db63"
      },
      "outputs": [
        {
          "data": {
            "text/plain": [
              "0.814182534471438"
            ]
          },
          "execution_count": 28,
          "metadata": {},
          "output_type": "execute_result"
        }
      ],
      "source": [
        "accuracy_score(y_val,y_pred)"
      ]
    },
    {
      "cell_type": "code",
      "execution_count": null,
      "metadata": {
        "colab": {
          "base_uri": "https://localhost:8080/"
        },
        "id": "96JjsUhcjGFX",
        "outputId": "adff2539-d26f-4fee-b2b5-c4ba477356b5"
      },
      "outputs": [
        {
          "name": "stdout",
          "output_type": "stream",
          "text": [
            "              precision    recall  f1-score   support\n",
            "\n",
            "           0       0.79      0.92      0.85       886\n",
            "           1       0.86      0.66      0.75       637\n",
            "\n",
            "    accuracy                           0.81      1523\n",
            "   macro avg       0.83      0.79      0.80      1523\n",
            "weighted avg       0.82      0.81      0.81      1523\n",
            "\n"
          ]
        }
      ],
      "source": [
        "print(classification_report(y_val,y_pred))"
      ]
    },
    {
      "cell_type": "markdown",
      "metadata": {
        "id": "wGHv9UACjnM9"
      },
      "source": [
        "#### Generate the submission file\n",
        "\n",
        "For each tweets in the test set, we predict if the given tweet is about a real disaster or not. If so, predict a 1. If not, predict a 0.\n",
        "\n",
        "The submission.csv file uses the following format: id,target"
      ]
    },
    {
      "cell_type": "code",
      "execution_count": null,
      "metadata": {
        "id": "S7YTXRRDjKU4"
      },
      "outputs": [],
      "source": [
        "sample_submission = pd.read_csv(\"/content/nlp-getting-started/sample_submission.csv\")\n",
        "sample_submission.head()"
      ]
    },
    {
      "cell_type": "code",
      "execution_count": null,
      "metadata": {
        "id": "YaAKQcKkjQ_V"
      },
      "outputs": [],
      "source": [
        "sample_submission[\"target\"] = best_model.predict(X_test)"
      ]
    },
    {
      "cell_type": "code",
      "execution_count": null,
      "metadata": {
        "id": "rbpP_yvKjvl8"
      },
      "outputs": [],
      "source": [
        "sample_submission.describe()"
      ]
    },
    {
      "cell_type": "code",
      "execution_count": null,
      "metadata": {
        "id": "u4tRSZhtjwNg"
      },
      "outputs": [],
      "source": [
        "sample_submission.to_csv(\"submission.csv\", index=False)"
      ]
    }
  ],
  "metadata": {
    "accelerator": "GPU",
    "colab": {
      "provenance": [],
      "gpuType": "T4"
    },
    "kernelspec": {
      "display_name": "Python 3",
      "name": "python3"
    },
    "language_info": {
      "name": "python"
    }
  },
  "nbformat": 4,
  "nbformat_minor": 0
}